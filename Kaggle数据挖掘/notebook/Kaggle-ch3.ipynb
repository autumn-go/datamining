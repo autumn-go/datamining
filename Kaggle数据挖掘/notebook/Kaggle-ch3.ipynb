{
 "cells": [
  {
   "cell_type": "code",
   "execution_count": 2,
   "metadata": {
    "ExecuteTime": {
     "end_time": "2020-08-01T06:09:50.715658Z",
     "start_time": "2020-08-01T06:09:50.566451Z"
    },
    "_cell_guid": "1952347b-6dc9-b9f1-fa25-94587a2aee77"
   },
   "outputs": [
    {
     "name": "stderr",
     "output_type": "stream",
     "text": [
      "/usr/lib/python3.6/importlib/_bootstrap.py:219: RuntimeWarning: numpy.ufunc size changed, may indicate binary incompatibility. Expected 216, got 192\n",
      "  return f(*args, **kwds)\n",
      "/usr/lib/python3.6/importlib/_bootstrap.py:219: RuntimeWarning: numpy.ufunc size changed, may indicate binary incompatibility. Expected 192 from C header, got 216 from PyObject\n",
      "  return f(*args, **kwds)\n"
     ]
    }
   ],
   "source": [
    "import os\n",
    "import sys\n",
    "import operator\n",
    "import numpy as np\n",
    "import pandas as pd\n",
    "from scipy import sparse\n",
    "import xgboost as xgb\n",
    "from sklearn import model_selection, preprocessing\n",
    "from sklearn.metrics import log_loss\n",
    "from sklearn.feature_extraction.text import TfidfVectorizer, CountVectorizer"
   ]
  },
  {
   "cell_type": "markdown",
   "metadata": {},
   "source": [
    "# 数据划分方法"
   ]
  },
  {
   "cell_type": "code",
   "execution_count": 1,
   "metadata": {
    "ExecuteTime": {
     "end_time": "2020-08-01T06:09:32.857807Z",
     "start_time": "2020-08-01T06:09:32.852852Z"
    }
   },
   "outputs": [],
   "source": [
    "# hold-out\n",
    "from sklearn.model_selection import train_test_split\n",
    "\n",
    "# K折交叉验证\n",
    "from sklearn.model_selection import KFold\n",
    "from sklearn.model_selection import RepeatedKFold\n",
    "\n",
    "# K折分布保持交叉验证\n",
    "from sklearn.model_selection import StratifiedKFold\n",
    "from sklearn.model_selection import RepeatedStratifiedKFold\n",
    "\n",
    "# 时间序列划分方法\n",
    "from sklearn.model_selection import TimeSeriesSplit\n",
    "\n",
    "# booststrap 采样\n",
    "from sklearn.utils import resample"
   ]
  },
  {
   "cell_type": "code",
   "execution_count": 190,
   "metadata": {
    "ExecuteTime": {
     "end_time": "2020-08-01T13:45:06.443377Z",
     "start_time": "2020-08-01T13:45:06.437355Z"
    }
   },
   "outputs": [
    {
     "name": "stdout",
     "output_type": "stream",
     "text": [
      "[[0. 0. 0. 0. 0.]\n",
      " [0. 0. 0. 0. 0.]\n",
      " [0. 0. 0. 0. 0.]\n",
      " [0. 0. 0. 0. 0.]\n",
      " [0. 0. 0. 0. 0.]\n",
      " [0. 0. 0. 0. 0.]\n",
      " [0. 0. 0. 0. 0.]\n",
      " [0. 0. 0. 0. 0.]\n",
      " [0. 0. 0. 0. 0.]\n",
      " [0. 0. 0. 0. 0.]\n",
      " [0. 0. 0. 0. 0.]\n",
      " [0. 0. 0. 0. 0.]\n",
      " [0. 0. 0. 0. 0.]\n",
      " [0. 0. 0. 0. 0.]\n",
      " [0. 0. 0. 0. 0.]\n",
      " [0. 0. 0. 0. 0.]\n",
      " [0. 0. 0. 0. 0.]\n",
      " [0. 0. 0. 0. 0.]\n",
      " [0. 0. 0. 0. 0.]\n",
      " [0. 0. 0. 0. 0.]] [1 1 1 1 1 2 2 2 2 2 3 3 3 3 3 4 4 4 4 4]\n"
     ]
    }
   ],
   "source": [
    "# X = np.zeros((20, 5))\n",
    "# Y = np.array([1, 2, 3, 4] * 5)\n",
    "# print(X, Y)\n",
    "\n",
    "X = np.zeros((20, 5))\n",
    "Y = np.array([1]*5 + [2]*5 + [3]*5 + [4]*5)\n",
    "print(X, Y)"
   ]
  },
  {
   "cell_type": "code",
   "execution_count": 188,
   "metadata": {
    "ExecuteTime": {
     "end_time": "2020-08-01T13:43:42.481079Z",
     "start_time": "2020-08-01T13:43:42.473318Z"
    }
   },
   "outputs": [
    {
     "name": "stdout",
     "output_type": "stream",
     "text": [
      "[2 1 3 4 1 1 3 3 4 1 4 2 2 3 4 2] [3 2 4 1]\n"
     ]
    }
   ],
   "source": [
    "# 直接按照比例拆分\n",
    "# train_X, val_X, train_y, val_y = train_test_split(X, Y, test_size = 0.2)\n",
    "# print(train_y, val_y)\n",
    "\n",
    "# 按照比例 & 标签分布划分\n",
    "train_X, val_X, train_y, val_y = train_test_split(X, Y, test_size = 0.2, stratify=Y)\n",
    "print(train_y, val_y)"
   ]
  },
  {
   "cell_type": "code",
   "execution_count": 191,
   "metadata": {
    "ExecuteTime": {
     "end_time": "2020-08-01T13:45:14.620107Z",
     "start_time": "2020-08-01T13:45:14.611656Z"
    }
   },
   "outputs": [
    {
     "name": "stdout",
     "output_type": "stream",
     "text": [
      "[ 4  5  6  7  8  9 10 11 12 13 14 15 16 17 18 19] [0 1 2 3]\n",
      "Label [1 1 1 1]\n",
      "\n",
      "[ 0  1  2  3  8  9 10 11 12 13 14 15 16 17 18 19] [4 5 6 7]\n",
      "Label [1 2 2 2]\n",
      "\n",
      "[ 0  1  2  3  4  5  6  7 12 13 14 15 16 17 18 19] [ 8  9 10 11]\n",
      "Label [2 2 3 3]\n",
      "\n",
      "[ 0  1  2  3  4  5  6  7  8  9 10 11 16 17 18 19] [12 13 14 15]\n",
      "Label [3 3 3 4]\n",
      "\n",
      "[ 0  1  2  3  4  5  6  7  8  9 10 11 12 13 14 15] [16 17 18 19]\n",
      "Label [4 4 4 4]\n",
      "\n"
     ]
    }
   ],
   "source": [
    "kf = KFold(n_splits=5)\n",
    "for train_idx, test_idx, in kf.split(X, Y):\n",
    "    print(train_idx, test_idx)\n",
    "    print('Label', Y[test_idx])\n",
    "    print('')"
   ]
  },
  {
   "cell_type": "code",
   "execution_count": 192,
   "metadata": {
    "ExecuteTime": {
     "end_time": "2020-08-01T13:45:54.053233Z",
     "start_time": "2020-08-01T13:45:54.039948Z"
    }
   },
   "outputs": [
    {
     "name": "stdout",
     "output_type": "stream",
     "text": [
      "[ 0  1  2  3  4  7  8  9 11 12 13 15 16 17 18 19] [ 5  6 10 14]\n",
      "Label [2 2 3 3]\n",
      "\n",
      "[ 1  3  4  5  6  8  9 10 11 12 13 14 16 17 18 19] [ 0  2  7 15]\n",
      "Label [1 1 2 4]\n",
      "\n",
      "[ 0  1  2  3  5  6  7  8  9 10 11 14 15 16 18 19] [ 4 12 13 17]\n",
      "Label [1 3 3 4]\n",
      "\n",
      "[ 0  2  3  4  5  6  7  8 10 11 12 13 14 15 17 19] [ 1  9 16 18]\n",
      "Label [1 2 4 4]\n",
      "\n",
      "[ 0  1  2  4  5  6  7  9 10 12 13 14 15 16 17 18] [ 3  8 11 19]\n",
      "Label [1 2 3 4]\n",
      "\n",
      "[ 0  1  2  3  4  5  7  8  9 10 11 12 15 16 17 18] [ 6 13 14 19]\n",
      "Label [2 3 3 4]\n",
      "\n",
      "[ 0  2  3  4  6  9 10 11 12 13 14 15 16 17 18 19] [1 5 7 8]\n",
      "Label [1 2 2 2]\n",
      "\n",
      "[ 1  3  4  5  6  7  8 11 12 13 14 15 16 17 18 19] [ 0  2  9 10]\n",
      "Label [1 1 2 3]\n",
      "\n",
      "[ 0  1  2  3  4  5  6  7  8  9 10 11 13 14 15 19] [12 16 17 18]\n",
      "Label [3 4 4 4]\n",
      "\n",
      "[ 0  1  2  5  6  7  8  9 10 12 13 14 16 17 18 19] [ 3  4 11 15]\n",
      "Label [1 1 3 4]\n",
      "\n"
     ]
    }
   ],
   "source": [
    "kf = RepeatedKFold(n_splits=5, n_repeats=2)\n",
    "for train_idx, test_idx, in kf.split(X, Y):\n",
    "    print(train_idx, test_idx)\n",
    "    print('Label', Y[test_idx])\n",
    "    print('')"
   ]
  },
  {
   "cell_type": "code",
   "execution_count": 193,
   "metadata": {
    "ExecuteTime": {
     "end_time": "2020-08-01T13:46:19.292133Z",
     "start_time": "2020-08-01T13:46:19.282489Z"
    }
   },
   "outputs": [
    {
     "name": "stdout",
     "output_type": "stream",
     "text": [
      "[ 1  2  3  4  6  7  8  9 11 12 13 14 16 17 18 19] [ 0  5 10 15]\n",
      "Label [1 2 3 4]\n",
      "\n",
      "[ 0  2  3  4  5  7  8  9 10 12 13 14 15 17 18 19] [ 1  6 11 16]\n",
      "Label [1 2 3 4]\n",
      "\n",
      "[ 0  1  3  4  5  6  8  9 10 11 13 14 15 16 18 19] [ 2  7 12 17]\n",
      "Label [1 2 3 4]\n",
      "\n",
      "[ 0  1  2  4  5  6  7  9 10 11 12 14 15 16 17 19] [ 3  8 13 18]\n",
      "Label [1 2 3 4]\n",
      "\n",
      "[ 0  1  2  3  5  6  7  8 10 11 12 13 15 16 17 18] [ 4  9 14 19]\n",
      "Label [1 2 3 4]\n",
      "\n"
     ]
    }
   ],
   "source": [
    "kf = StratifiedKFold(n_splits=5)\n",
    "for train_idx, test_idx, in kf.split(X, Y):\n",
    "    print(train_idx, test_idx)\n",
    "    print('Label', Y[test_idx])\n",
    "    print('')"
   ]
  },
  {
   "cell_type": "code",
   "execution_count": 31,
   "metadata": {
    "ExecuteTime": {
     "end_time": "2020-08-01T06:21:36.656473Z",
     "start_time": "2020-08-01T06:21:36.643961Z"
    },
    "scrolled": false
   },
   "outputs": [
    {
     "name": "stdout",
     "output_type": "stream",
     "text": [
      "[ 0  1  2  4  5  6  7  8 11 12 13 14 15 16 17 18] [ 3  9 10 19]\n",
      "Label [1 2 3 4]\n",
      "\n",
      "[ 0  1  2  3  6  7  8  9 10 12 13 14 15 17 18 19] [ 4  5 11 16]\n",
      "Label [1 2 3 4]\n",
      "\n",
      "[ 1  2  3  4  5  7  8  9 10 11 13 14 15 16 18 19] [ 0  6 12 17]\n",
      "Label [1 2 3 4]\n",
      "\n",
      "[ 0  1  3  4  5  6  7  9 10 11 12 13 16 17 18 19] [ 2  8 14 15]\n",
      "Label [1 2 3 4]\n",
      "\n",
      "[ 0  2  3  4  5  6  8  9 10 11 12 14 15 16 17 19] [ 1  7 13 18]\n",
      "Label [1 2 3 4]\n",
      "\n",
      "[ 0  1  2  4  5  6  7  8 10 11 12 14 15 16 17 19] [ 3  9 13 18]\n",
      "Label [1 2 3 4]\n",
      "\n",
      "[ 1  2  3  4  5  7  8  9 11 12 13 14 15 16 17 18] [ 0  6 10 19]\n",
      "Label [1 2 3 4]\n",
      "\n",
      "[ 0  2  3  4  5  6  7  9 10 11 12 13 15 17 18 19] [ 1  8 14 16]\n",
      "Label [1 2 3 4]\n",
      "\n",
      "[ 0  1  2  3  6  7  8  9 10 11 13 14 16 17 18 19] [ 4  5 12 15]\n",
      "Label [1 2 3 4]\n",
      "\n",
      "[ 0  1  3  4  5  6  8  9 10 12 13 14 15 16 18 19] [ 2  7 11 17]\n",
      "Label [1 2 3 4]\n",
      "\n"
     ]
    }
   ],
   "source": [
    "kf = RepeatedStratifiedKFold(n_splits=5, n_repeats=2)\n",
    "for train_idx, test_idx, in kf.split(X, Y):\n",
    "    print(train_idx, test_idx)\n",
    "    print('Label', Y[test_idx])\n",
    "    print('')"
   ]
  },
  {
   "cell_type": "code",
   "execution_count": 194,
   "metadata": {
    "ExecuteTime": {
     "end_time": "2020-08-01T13:47:07.892667Z",
     "start_time": "2020-08-01T13:47:07.882386Z"
    }
   },
   "outputs": [
    {
     "name": "stdout",
     "output_type": "stream",
     "text": [
      "[0 1 2 3 4] [5 6 7]\n",
      "Label [2 2 2]\n",
      "\n",
      "[0 1 2 3 4 5 6 7] [ 8  9 10]\n",
      "Label [2 2 3]\n",
      "\n",
      "[ 0  1  2  3  4  5  6  7  8  9 10] [11 12 13]\n",
      "Label [3 3 3]\n",
      "\n",
      "[ 0  1  2  3  4  5  6  7  8  9 10 11 12 13] [14 15 16]\n",
      "Label [3 4 4]\n",
      "\n",
      "[ 0  1  2  3  4  5  6  7  8  9 10 11 12 13 14 15 16] [17 18 19]\n",
      "Label [4 4 4]\n",
      "\n"
     ]
    }
   ],
   "source": [
    "kf = TimeSeriesSplit(n_splits=5)\n",
    "for train_idx, test_idx, in kf.split(X, Y):\n",
    "    print(train_idx, test_idx)\n",
    "    print('Label', Y[test_idx])\n",
    "    print('')"
   ]
  },
  {
   "cell_type": "code",
   "execution_count": 39,
   "metadata": {
    "ExecuteTime": {
     "end_time": "2020-08-01T06:32:41.718036Z",
     "start_time": "2020-08-01T06:32:41.713058Z"
    }
   },
   "outputs": [
    {
     "name": "stdout",
     "output_type": "stream",
     "text": [
      "[4 1 3 4 2 2 4 4 1 3 3 1 3 1 2 3] [3 1 2 3]\n"
     ]
    }
   ],
   "source": [
    "train_X, train_Y = resample(X, Y, n_samples=16)\n",
    "val_X, val_Y = resample(X, Y, n_samples=4)\n",
    "print(train_Y, val_Y)"
   ]
  },
  {
   "cell_type": "markdown",
   "metadata": {},
   "source": [
    "# 提取 Two-Sigma比赛特征"
   ]
  },
  {
   "cell_type": "code",
   "execution_count": 202,
   "metadata": {
    "ExecuteTime": {
     "end_time": "2020-08-01T13:53:21.352664Z",
     "start_time": "2020-08-01T13:53:18.778296Z"
    },
    "_cell_guid": "e3b81db5-929d-b8b8-141c-1bbb4a5eaaf3"
   },
   "outputs": [
    {
     "name": "stdout",
     "output_type": "stream",
     "text": [
      "(49352, 15)\n",
      "(74659, 14)\n"
     ]
    }
   ],
   "source": [
    "train_df = pd.read_json('../input/train.json')\n",
    "test_df = pd.read_json('../input/test.json')\n",
    "print(train_df.shape)\n",
    "print(test_df.shape)\n",
    "\n",
    "features_to_use  = [\"bathrooms\", \"bedrooms\", \"latitude\", \"longitude\", \"price\", \n",
    "                    \"num_photos\", \"num_features\", \"num_description_words\",\"created_year\", \n",
    "                    \"created_month\", \"created_day\", \"listing_id\", \"created_hour\"]\n",
    "\n",
    "# count of photos #\n",
    "train_df[\"num_photos\"] = train_df[\"photos\"].apply(len)\n",
    "test_df[\"num_photos\"] = test_df[\"photos\"].apply(len)\n",
    "\n",
    "# count of \"features\" #\n",
    "train_df[\"num_features\"] = train_df[\"features\"].apply(len)\n",
    "test_df[\"num_features\"] = test_df[\"features\"].apply(len)\n",
    "\n",
    "# count of words present in description column #\n",
    "train_df[\"num_description_words\"] = train_df[\"description\"].apply(lambda x: len(x.split(\" \")))\n",
    "test_df[\"num_description_words\"] = test_df[\"description\"].apply(lambda x: len(x.split(\" \")))\n",
    "\n",
    "# convert the created column to datetime object so as to extract more features \n",
    "train_df[\"created\"] = pd.to_datetime(train_df[\"created\"])\n",
    "test_df[\"created\"] = pd.to_datetime(test_df[\"created\"])\n",
    "\n",
    "# Let us extract some features like year, month, day, hour from date columns #\n",
    "train_df[\"created_year\"] = train_df[\"created\"].dt.year\n",
    "test_df[\"created_year\"] = test_df[\"created\"].dt.year\n",
    "train_df[\"created_month\"] = train_df[\"created\"].dt.month\n",
    "test_df[\"created_month\"] = test_df[\"created\"].dt.month\n",
    "train_df[\"created_day\"] = train_df[\"created\"].dt.day\n",
    "test_df[\"created_day\"] = test_df[\"created\"].dt.day\n",
    "train_df[\"created_hour\"] = train_df[\"created\"].dt.hour\n",
    "test_df[\"created_hour\"] = test_df[\"created\"].dt.hour"
   ]
  },
  {
   "cell_type": "code",
   "execution_count": 203,
   "metadata": {
    "ExecuteTime": {
     "end_time": "2020-08-01T13:53:22.944246Z",
     "start_time": "2020-08-01T13:53:21.354727Z"
    },
    "_cell_guid": "af410ae2-6197-adce-ee68-360aa59eff7e"
   },
   "outputs": [],
   "source": [
    "categorical = [\"display_address\", \"manager_id\", \"building_id\", \"street_address\"]\n",
    "for f in categorical:\n",
    "        if train_df[f].dtype=='object':\n",
    "            #print(f)\n",
    "            lbl = preprocessing.LabelEncoder()\n",
    "            lbl.fit(list(train_df[f].values) + list(test_df[f].values))\n",
    "            train_df[f] = lbl.transform(list(train_df[f].values))\n",
    "            test_df[f] = lbl.transform(list(test_df[f].values))\n",
    "            features_to_use.append(f)"
   ]
  },
  {
   "cell_type": "code",
   "execution_count": 204,
   "metadata": {
    "ExecuteTime": {
     "end_time": "2020-08-01T13:53:25.138327Z",
     "start_time": "2020-08-01T13:53:24.217343Z"
    },
    "_cell_guid": "9eeef912-2104-e97e-1948-c246652340e1"
   },
   "outputs": [
    {
     "name": "stdout",
     "output_type": "stream",
     "text": [
      "10                                                         \n",
      "10000     Doorman Elevator Fitness_Center Cats_Allowed D...\n",
      "100004    Laundry_In_Building Dishwasher Hardwood_Floors...\n",
      "100007                               Hardwood_Floors No_Fee\n",
      "100013                                              Pre-War\n",
      "Name: features, dtype: object\n",
      "(49352, 217) (74659, 217)\n"
     ]
    }
   ],
   "source": [
    "train_df['features'] = train_df[\"features\"].apply(lambda x: \" \".join([\"_\".join(i.split(\" \")) for i in x]))\n",
    "test_df['features'] = test_df[\"features\"].apply(lambda x: \" \".join([\"_\".join(i.split(\" \")) for i in x]))\n",
    "print(train_df[\"features\"].head())\n",
    "tfidf = CountVectorizer(stop_words='english', max_features=200)\n",
    "tr_sparse = tfidf.fit_transform(train_df[\"features\"])\n",
    "te_sparse = tfidf.transform(test_df[\"features\"])\n",
    "\n",
    "train_X = sparse.hstack([train_df[features_to_use], tr_sparse]).tocsr()\n",
    "test_X = sparse.hstack([test_df[features_to_use], te_sparse]).tocsr()\n",
    "\n",
    "target_num_map = {'high':0, 'medium':1, 'low':2}\n",
    "train_y = np.array(train_df['interest_level'].apply(lambda x: target_num_map[x]))\n",
    "print(train_X.shape, test_X.shape)"
   ]
  },
  {
   "cell_type": "code",
   "execution_count": 205,
   "metadata": {
    "ExecuteTime": {
     "end_time": "2020-08-01T13:53:25.876245Z",
     "start_time": "2020-08-01T13:53:25.871120Z"
    },
    "scrolled": true
   },
   "outputs": [],
   "source": [
    "from warnings import filterwarnings\n",
    "filterwarnings('ignore')\n",
    "\n",
    "from sklearn.linear_model import LogisticRegression\n",
    "from sklearn.ensemble import RandomForestClassifier\n",
    "from lightgbm import LGBMClassifier\n",
    "from xgboost import XGBClassifier\n",
    "\n",
    "from sklearn.preprocessing import StandardScaler"
   ]
  },
  {
   "cell_type": "code",
   "execution_count": 211,
   "metadata": {
    "ExecuteTime": {
     "end_time": "2020-08-01T13:59:04.103073Z",
     "start_time": "2020-08-01T13:59:04.099241Z"
    }
   },
   "outputs": [],
   "source": [
    "# clf = LogisticRegression()\n",
    "# clf = RandomForestClassifier()\n",
    "clf = LGBMClassifier()\n",
    "# clf = XGBClassifier()"
   ]
  },
  {
   "cell_type": "code",
   "execution_count": 208,
   "metadata": {
    "ExecuteTime": {
     "end_time": "2020-08-01T13:56:43.614850Z",
     "start_time": "2020-08-01T13:56:34.685951Z"
    }
   },
   "outputs": [
    {
     "name": "stdout",
     "output_type": "stream",
     "text": [
      "[ 9844  9845  9846 ... 49349 49350 49351] [    0     1     2 ... 10062 10066 10079]\n",
      "Val loss 0.6996666866964564\n",
      "[    0     1     2 ... 49349 49350 49351] [ 9844  9845  9846 ... 20058 20059 20083]\n",
      "Val loss 0.6976671217929108\n",
      "[    0     1     2 ... 49349 49350 49351] [19674 19675 19676 ... 29975 29995 29999]\n",
      "Val loss 0.6949027112712386\n",
      "[    0     1     2 ... 49349 49350 49351] [29513 29514 29515 ... 39683 39684 39705]\n",
      "Val loss 0.6868385978392189\n",
      "[    0     1     2 ... 39683 39684 39705] [39411 39413 39415 ... 49349 49350 49351]\n",
      "Val loss 0.69737307995299\n"
     ]
    }
   ],
   "source": [
    "# 这写了一个bug，你能改好吗？\n",
    "ss = StandardScaler()\n",
    "train_X = ss.fit_transform(train_df[features_to_use])\n",
    "test_X = ss.transform(test_df[features_to_use])\n",
    "\n",
    "kf = StratifiedKFold(n_splits=5)\n",
    "test_pred = None\n",
    "for train_idx, test_idx, in kf.split(train_X, train_df['interest_level']):\n",
    "    \n",
    "    print(train_idx, test_idx)\n",
    "    clf.fit(train_X[train_idx], train_y[train_idx])\n",
    "    print('Val loss', log_loss(train_y[test_idx], \n",
    "                   clf.predict_proba(train_X[test_idx])))\n",
    "    \n",
    "    if test_pred is None:\n",
    "        test_pred = clf.predict_proba(test_X)\n",
    "    else:\n",
    "        test_pred += clf.predict_proba(test_X)\n",
    "\n",
    "test_pred /= 5"
   ]
  },
  {
   "cell_type": "code",
   "execution_count": 212,
   "metadata": {
    "ExecuteTime": {
     "end_time": "2020-08-01T13:59:15.217981Z",
     "start_time": "2020-08-01T13:59:06.596726Z"
    },
    "scrolled": true
   },
   "outputs": [
    {
     "name": "stdout",
     "output_type": "stream",
     "text": [
      "[ 9844  9845  9846 ... 49349 49350 49351] [    0     1     2 ... 10062 10066 10079]\n",
      "Val loss 0.5847288585015772\n",
      "[    0     1     2 ... 49349 49350 49351] [ 9844  9845  9846 ... 20058 20059 20083]\n",
      "Val loss 0.5742987816612107\n",
      "[    0     1     2 ... 49349 49350 49351] [19674 19675 19676 ... 29975 29995 29999]\n",
      "Val loss 0.5770764063602362\n",
      "[    0     1     2 ... 49349 49350 49351] [29513 29514 29515 ... 39683 39684 39705]\n",
      "Val loss 0.5731740093433958\n",
      "[    0     1     2 ... 39683 39684 39705] [39411 39413 39415 ... 49349 49350 49351]\n",
      "Val loss 0.5823743262300808\n"
     ]
    }
   ],
   "source": [
    "train_X = train_df[features_to_use].values\n",
    "test_X = test_df[features_to_use].values\n",
    "\n",
    "kf = StratifiedKFold(n_splits=5)\n",
    "test_pred = None\n",
    "for train_idx, test_idx, in kf.split(train_X, train_df['interest_level']):\n",
    "    \n",
    "    print(train_idx, test_idx)\n",
    "    clf.fit(train_X[train_idx], train_y[train_idx])\n",
    "    print('Val loss', log_loss(train_y[test_idx], \n",
    "                   clf.predict_proba(train_X[test_idx])))\n",
    "    \n",
    "    if test_pred is None:\n",
    "        test_pred = clf.predict_proba(test_X)\n",
    "    else:\n",
    "        test_pred += clf.predict_proba(test_X)\n",
    "\n",
    "test_pred /= 5"
   ]
  },
  {
   "cell_type": "code",
   "execution_count": 218,
   "metadata": {
    "ExecuteTime": {
     "end_time": "2020-08-01T14:11:37.494748Z",
     "start_time": "2020-08-01T14:07:37.959112Z"
    },
    "scrolled": true
   },
   "outputs": [
    {
     "name": "stdout",
     "output_type": "stream",
     "text": [
      "[ 9844  9845  9846 ... 49349 49350 49351] [    0     1     2 ... 10062 10066 10079]\n",
      "Training until validation scores don't improve for 50 rounds.\n",
      "[20]\tvalid_0's multi_logloss: 0.749777\tvalid_1's multi_logloss: 0.749777\n",
      "[40]\tvalid_0's multi_logloss: 0.722504\tvalid_1's multi_logloss: 0.722504\n",
      "[60]\tvalid_0's multi_logloss: 0.702093\tvalid_1's multi_logloss: 0.702093\n",
      "[80]\tvalid_0's multi_logloss: 0.686299\tvalid_1's multi_logloss: 0.686299\n",
      "[100]\tvalid_0's multi_logloss: 0.673796\tvalid_1's multi_logloss: 0.673796\n",
      "[120]\tvalid_0's multi_logloss: 0.663649\tvalid_1's multi_logloss: 0.663649\n",
      "[140]\tvalid_0's multi_logloss: 0.655094\tvalid_1's multi_logloss: 0.655094\n",
      "[160]\tvalid_0's multi_logloss: 0.648178\tvalid_1's multi_logloss: 0.648178\n",
      "[180]\tvalid_0's multi_logloss: 0.642242\tvalid_1's multi_logloss: 0.642242\n",
      "[200]\tvalid_0's multi_logloss: 0.637278\tvalid_1's multi_logloss: 0.637278\n",
      "[220]\tvalid_0's multi_logloss: 0.632902\tvalid_1's multi_logloss: 0.632902\n",
      "[240]\tvalid_0's multi_logloss: 0.62907\tvalid_1's multi_logloss: 0.62907\n",
      "[260]\tvalid_0's multi_logloss: 0.62571\tvalid_1's multi_logloss: 0.62571\n",
      "[280]\tvalid_0's multi_logloss: 0.622654\tvalid_1's multi_logloss: 0.622654\n",
      "[300]\tvalid_0's multi_logloss: 0.620098\tvalid_1's multi_logloss: 0.620098\n",
      "[320]\tvalid_0's multi_logloss: 0.617721\tvalid_1's multi_logloss: 0.617721\n",
      "[340]\tvalid_0's multi_logloss: 0.615544\tvalid_1's multi_logloss: 0.615544\n",
      "[360]\tvalid_0's multi_logloss: 0.613444\tvalid_1's multi_logloss: 0.613444\n",
      "[380]\tvalid_0's multi_logloss: 0.61146\tvalid_1's multi_logloss: 0.61146\n",
      "[400]\tvalid_0's multi_logloss: 0.6096\tvalid_1's multi_logloss: 0.6096\n",
      "[420]\tvalid_0's multi_logloss: 0.607813\tvalid_1's multi_logloss: 0.607813\n",
      "[440]\tvalid_0's multi_logloss: 0.60611\tvalid_1's multi_logloss: 0.60611\n",
      "[460]\tvalid_0's multi_logloss: 0.60467\tvalid_1's multi_logloss: 0.60467\n",
      "[480]\tvalid_0's multi_logloss: 0.60327\tvalid_1's multi_logloss: 0.60327\n",
      "[500]\tvalid_0's multi_logloss: 0.60193\tvalid_1's multi_logloss: 0.60193\n",
      "[520]\tvalid_0's multi_logloss: 0.60082\tvalid_1's multi_logloss: 0.60082\n",
      "[540]\tvalid_0's multi_logloss: 0.599742\tvalid_1's multi_logloss: 0.599742\n",
      "[560]\tvalid_0's multi_logloss: 0.598717\tvalid_1's multi_logloss: 0.598717\n",
      "[580]\tvalid_0's multi_logloss: 0.597766\tvalid_1's multi_logloss: 0.597766\n",
      "[600]\tvalid_0's multi_logloss: 0.596827\tvalid_1's multi_logloss: 0.596827\n",
      "[620]\tvalid_0's multi_logloss: 0.595964\tvalid_1's multi_logloss: 0.595964\n",
      "[640]\tvalid_0's multi_logloss: 0.59507\tvalid_1's multi_logloss: 0.59507\n",
      "[660]\tvalid_0's multi_logloss: 0.594328\tvalid_1's multi_logloss: 0.594328\n",
      "[680]\tvalid_0's multi_logloss: 0.593634\tvalid_1's multi_logloss: 0.593634\n",
      "[700]\tvalid_0's multi_logloss: 0.592825\tvalid_1's multi_logloss: 0.592825\n",
      "[720]\tvalid_0's multi_logloss: 0.592165\tvalid_1's multi_logloss: 0.592165\n",
      "[740]\tvalid_0's multi_logloss: 0.59146\tvalid_1's multi_logloss: 0.59146\n",
      "[760]\tvalid_0's multi_logloss: 0.590783\tvalid_1's multi_logloss: 0.590783\n",
      "[780]\tvalid_0's multi_logloss: 0.5901\tvalid_1's multi_logloss: 0.5901\n",
      "[800]\tvalid_0's multi_logloss: 0.589454\tvalid_1's multi_logloss: 0.589454\n",
      "[820]\tvalid_0's multi_logloss: 0.588927\tvalid_1's multi_logloss: 0.588927\n",
      "[840]\tvalid_0's multi_logloss: 0.588346\tvalid_1's multi_logloss: 0.588346\n",
      "[860]\tvalid_0's multi_logloss: 0.587844\tvalid_1's multi_logloss: 0.587844\n",
      "[880]\tvalid_0's multi_logloss: 0.587316\tvalid_1's multi_logloss: 0.587316\n",
      "[900]\tvalid_0's multi_logloss: 0.586821\tvalid_1's multi_logloss: 0.586821\n",
      "[920]\tvalid_0's multi_logloss: 0.586309\tvalid_1's multi_logloss: 0.586309\n",
      "[940]\tvalid_0's multi_logloss: 0.585802\tvalid_1's multi_logloss: 0.585802\n",
      "[960]\tvalid_0's multi_logloss: 0.585311\tvalid_1's multi_logloss: 0.585311\n",
      "[980]\tvalid_0's multi_logloss: 0.584803\tvalid_1's multi_logloss: 0.584803\n",
      "[1000]\tvalid_0's multi_logloss: 0.584425\tvalid_1's multi_logloss: 0.584425\n",
      "[1020]\tvalid_0's multi_logloss: 0.584153\tvalid_1's multi_logloss: 0.584153\n",
      "[1040]\tvalid_0's multi_logloss: 0.583793\tvalid_1's multi_logloss: 0.583793\n",
      "[1060]\tvalid_0's multi_logloss: 0.583478\tvalid_1's multi_logloss: 0.583478\n",
      "[1080]\tvalid_0's multi_logloss: 0.583185\tvalid_1's multi_logloss: 0.583185\n",
      "[1100]\tvalid_0's multi_logloss: 0.582863\tvalid_1's multi_logloss: 0.582863\n",
      "[1120]\tvalid_0's multi_logloss: 0.582517\tvalid_1's multi_logloss: 0.582517\n",
      "[1140]\tvalid_0's multi_logloss: 0.582211\tvalid_1's multi_logloss: 0.582211\n",
      "[1160]\tvalid_0's multi_logloss: 0.581992\tvalid_1's multi_logloss: 0.581992\n",
      "[1180]\tvalid_0's multi_logloss: 0.581717\tvalid_1's multi_logloss: 0.581717\n",
      "[1200]\tvalid_0's multi_logloss: 0.581494\tvalid_1's multi_logloss: 0.581494\n",
      "[1220]\tvalid_0's multi_logloss: 0.581219\tvalid_1's multi_logloss: 0.581219\n",
      "[1240]\tvalid_0's multi_logloss: 0.580974\tvalid_1's multi_logloss: 0.580974\n",
      "[1260]\tvalid_0's multi_logloss: 0.580703\tvalid_1's multi_logloss: 0.580703\n",
      "[1280]\tvalid_0's multi_logloss: 0.580466\tvalid_1's multi_logloss: 0.580466\n",
      "[1300]\tvalid_0's multi_logloss: 0.580314\tvalid_1's multi_logloss: 0.580314\n",
      "[1320]\tvalid_0's multi_logloss: 0.580084\tvalid_1's multi_logloss: 0.580084\n",
      "[1340]\tvalid_0's multi_logloss: 0.579862\tvalid_1's multi_logloss: 0.579862\n",
      "[1360]\tvalid_0's multi_logloss: 0.57966\tvalid_1's multi_logloss: 0.57966\n",
      "[1380]\tvalid_0's multi_logloss: 0.579448\tvalid_1's multi_logloss: 0.579448\n",
      "[1400]\tvalid_0's multi_logloss: 0.579235\tvalid_1's multi_logloss: 0.579235\n",
      "[1420]\tvalid_0's multi_logloss: 0.579013\tvalid_1's multi_logloss: 0.579013\n",
      "[1440]\tvalid_0's multi_logloss: 0.578819\tvalid_1's multi_logloss: 0.578819\n",
      "[1460]\tvalid_0's multi_logloss: 0.578651\tvalid_1's multi_logloss: 0.578651\n",
      "[1480]\tvalid_0's multi_logloss: 0.578514\tvalid_1's multi_logloss: 0.578514\n",
      "[1500]\tvalid_0's multi_logloss: 0.578387\tvalid_1's multi_logloss: 0.578387\n",
      "[1520]\tvalid_0's multi_logloss: 0.578214\tvalid_1's multi_logloss: 0.578214\n",
      "[1540]\tvalid_0's multi_logloss: 0.578056\tvalid_1's multi_logloss: 0.578056\n",
      "[1560]\tvalid_0's multi_logloss: 0.577954\tvalid_1's multi_logloss: 0.577954\n",
      "[1580]\tvalid_0's multi_logloss: 0.577817\tvalid_1's multi_logloss: 0.577817\n",
      "[1600]\tvalid_0's multi_logloss: 0.577709\tvalid_1's multi_logloss: 0.577709\n",
      "[1620]\tvalid_0's multi_logloss: 0.577507\tvalid_1's multi_logloss: 0.577507\n",
      "[1640]\tvalid_0's multi_logloss: 0.577385\tvalid_1's multi_logloss: 0.577385\n",
      "[1660]\tvalid_0's multi_logloss: 0.577244\tvalid_1's multi_logloss: 0.577244\n",
      "[1680]\tvalid_0's multi_logloss: 0.577145\tvalid_1's multi_logloss: 0.577145\n",
      "[1700]\tvalid_0's multi_logloss: 0.576999\tvalid_1's multi_logloss: 0.576999\n",
      "[1720]\tvalid_0's multi_logloss: 0.57689\tvalid_1's multi_logloss: 0.57689\n",
      "[1740]\tvalid_0's multi_logloss: 0.576808\tvalid_1's multi_logloss: 0.576808\n",
      "[1760]\tvalid_0's multi_logloss: 0.576691\tvalid_1's multi_logloss: 0.576691\n",
      "[1780]\tvalid_0's multi_logloss: 0.576598\tvalid_1's multi_logloss: 0.576598\n",
      "[1800]\tvalid_0's multi_logloss: 0.576483\tvalid_1's multi_logloss: 0.576483\n",
      "[1820]\tvalid_0's multi_logloss: 0.576386\tvalid_1's multi_logloss: 0.576386\n",
      "[1840]\tvalid_0's multi_logloss: 0.576345\tvalid_1's multi_logloss: 0.576345\n",
      "[1860]\tvalid_0's multi_logloss: 0.576261\tvalid_1's multi_logloss: 0.576261\n",
      "[1880]\tvalid_0's multi_logloss: 0.576207\tvalid_1's multi_logloss: 0.576207\n",
      "[1900]\tvalid_0's multi_logloss: 0.576125\tvalid_1's multi_logloss: 0.576125\n",
      "[1920]\tvalid_0's multi_logloss: 0.576033\tvalid_1's multi_logloss: 0.576033\n",
      "[1940]\tvalid_0's multi_logloss: 0.575965\tvalid_1's multi_logloss: 0.575965\n",
      "[1960]\tvalid_0's multi_logloss: 0.575886\tvalid_1's multi_logloss: 0.575886\n",
      "[1980]\tvalid_0's multi_logloss: 0.575842\tvalid_1's multi_logloss: 0.575842\n",
      "[2000]\tvalid_0's multi_logloss: 0.575832\tvalid_1's multi_logloss: 0.575832\n",
      "Did not meet early stopping. Best iteration is:\n",
      "[1993]\tvalid_0's multi_logloss: 0.575827\tvalid_1's multi_logloss: 0.575827\n",
      "Val loss 0.5758274821308871\n",
      "[    0     1     2 ... 49349 49350 49351] [ 9844  9845  9846 ... 20058 20059 20083]\n",
      "Training until validation scores don't improve for 50 rounds.\n",
      "[20]\tvalid_0's multi_logloss: 0.747312\tvalid_1's multi_logloss: 0.747312\n",
      "[40]\tvalid_0's multi_logloss: 0.718685\tvalid_1's multi_logloss: 0.718685\n",
      "[60]\tvalid_0's multi_logloss: 0.697219\tvalid_1's multi_logloss: 0.697219\n",
      "[80]\tvalid_0's multi_logloss: 0.680856\tvalid_1's multi_logloss: 0.680856\n",
      "[100]\tvalid_0's multi_logloss: 0.667693\tvalid_1's multi_logloss: 0.667693\n"
     ]
    },
    {
     "name": "stdout",
     "output_type": "stream",
     "text": [
      "[120]\tvalid_0's multi_logloss: 0.657019\tvalid_1's multi_logloss: 0.657019\n",
      "[140]\tvalid_0's multi_logloss: 0.648077\tvalid_1's multi_logloss: 0.648077\n",
      "[160]\tvalid_0's multi_logloss: 0.640877\tvalid_1's multi_logloss: 0.640877\n",
      "[180]\tvalid_0's multi_logloss: 0.634722\tvalid_1's multi_logloss: 0.634722\n",
      "[200]\tvalid_0's multi_logloss: 0.629364\tvalid_1's multi_logloss: 0.629364\n",
      "[220]\tvalid_0's multi_logloss: 0.624855\tvalid_1's multi_logloss: 0.624855\n",
      "[240]\tvalid_0's multi_logloss: 0.620393\tvalid_1's multi_logloss: 0.620393\n",
      "[260]\tvalid_0's multi_logloss: 0.616875\tvalid_1's multi_logloss: 0.616875\n",
      "[280]\tvalid_0's multi_logloss: 0.613883\tvalid_1's multi_logloss: 0.613883\n",
      "[300]\tvalid_0's multi_logloss: 0.611285\tvalid_1's multi_logloss: 0.611285\n",
      "[320]\tvalid_0's multi_logloss: 0.608857\tvalid_1's multi_logloss: 0.608857\n",
      "[340]\tvalid_0's multi_logloss: 0.606441\tvalid_1's multi_logloss: 0.606441\n",
      "[360]\tvalid_0's multi_logloss: 0.604212\tvalid_1's multi_logloss: 0.604212\n",
      "[380]\tvalid_0's multi_logloss: 0.602136\tvalid_1's multi_logloss: 0.602136\n",
      "[400]\tvalid_0's multi_logloss: 0.600054\tvalid_1's multi_logloss: 0.600054\n",
      "[420]\tvalid_0's multi_logloss: 0.598169\tvalid_1's multi_logloss: 0.598169\n",
      "[440]\tvalid_0's multi_logloss: 0.596563\tvalid_1's multi_logloss: 0.596563\n",
      "[460]\tvalid_0's multi_logloss: 0.594922\tvalid_1's multi_logloss: 0.594922\n",
      "[480]\tvalid_0's multi_logloss: 0.593486\tvalid_1's multi_logloss: 0.593486\n",
      "[500]\tvalid_0's multi_logloss: 0.592079\tvalid_1's multi_logloss: 0.592079\n",
      "[520]\tvalid_0's multi_logloss: 0.590768\tvalid_1's multi_logloss: 0.590768\n",
      "[540]\tvalid_0's multi_logloss: 0.589506\tvalid_1's multi_logloss: 0.589506\n",
      "[560]\tvalid_0's multi_logloss: 0.588385\tvalid_1's multi_logloss: 0.588385\n",
      "[580]\tvalid_0's multi_logloss: 0.587369\tvalid_1's multi_logloss: 0.587369\n",
      "[600]\tvalid_0's multi_logloss: 0.586451\tvalid_1's multi_logloss: 0.586451\n",
      "[620]\tvalid_0's multi_logloss: 0.585616\tvalid_1's multi_logloss: 0.585616\n",
      "[640]\tvalid_0's multi_logloss: 0.584784\tvalid_1's multi_logloss: 0.584784\n",
      "[660]\tvalid_0's multi_logloss: 0.583986\tvalid_1's multi_logloss: 0.583986\n",
      "[680]\tvalid_0's multi_logloss: 0.583252\tvalid_1's multi_logloss: 0.583252\n",
      "[700]\tvalid_0's multi_logloss: 0.582546\tvalid_1's multi_logloss: 0.582546\n",
      "[720]\tvalid_0's multi_logloss: 0.581786\tvalid_1's multi_logloss: 0.581786\n",
      "[740]\tvalid_0's multi_logloss: 0.581132\tvalid_1's multi_logloss: 0.581132\n",
      "[760]\tvalid_0's multi_logloss: 0.58057\tvalid_1's multi_logloss: 0.58057\n",
      "[780]\tvalid_0's multi_logloss: 0.579996\tvalid_1's multi_logloss: 0.579996\n",
      "[800]\tvalid_0's multi_logloss: 0.579439\tvalid_1's multi_logloss: 0.579439\n",
      "[820]\tvalid_0's multi_logloss: 0.578923\tvalid_1's multi_logloss: 0.578923\n",
      "[840]\tvalid_0's multi_logloss: 0.578391\tvalid_1's multi_logloss: 0.578391\n",
      "[860]\tvalid_0's multi_logloss: 0.577933\tvalid_1's multi_logloss: 0.577933\n",
      "[880]\tvalid_0's multi_logloss: 0.577495\tvalid_1's multi_logloss: 0.577495\n",
      "[900]\tvalid_0's multi_logloss: 0.577132\tvalid_1's multi_logloss: 0.577132\n",
      "[920]\tvalid_0's multi_logloss: 0.576758\tvalid_1's multi_logloss: 0.576758\n",
      "[940]\tvalid_0's multi_logloss: 0.576339\tvalid_1's multi_logloss: 0.576339\n",
      "[960]\tvalid_0's multi_logloss: 0.575902\tvalid_1's multi_logloss: 0.575902\n",
      "[980]\tvalid_0's multi_logloss: 0.575573\tvalid_1's multi_logloss: 0.575573\n",
      "[1000]\tvalid_0's multi_logloss: 0.575295\tvalid_1's multi_logloss: 0.575295\n",
      "[1020]\tvalid_0's multi_logloss: 0.575045\tvalid_1's multi_logloss: 0.575045\n",
      "[1040]\tvalid_0's multi_logloss: 0.574724\tvalid_1's multi_logloss: 0.574724\n",
      "[1060]\tvalid_0's multi_logloss: 0.574417\tvalid_1's multi_logloss: 0.574417\n",
      "[1080]\tvalid_0's multi_logloss: 0.574111\tvalid_1's multi_logloss: 0.574111\n",
      "[1100]\tvalid_0's multi_logloss: 0.573809\tvalid_1's multi_logloss: 0.573809\n",
      "[1120]\tvalid_0's multi_logloss: 0.573519\tvalid_1's multi_logloss: 0.573519\n",
      "[1140]\tvalid_0's multi_logloss: 0.573266\tvalid_1's multi_logloss: 0.573266\n",
      "[1160]\tvalid_0's multi_logloss: 0.573014\tvalid_1's multi_logloss: 0.573014\n",
      "[1180]\tvalid_0's multi_logloss: 0.572783\tvalid_1's multi_logloss: 0.572783\n",
      "[1200]\tvalid_0's multi_logloss: 0.572573\tvalid_1's multi_logloss: 0.572573\n",
      "[1220]\tvalid_0's multi_logloss: 0.572313\tvalid_1's multi_logloss: 0.572313\n",
      "[1240]\tvalid_0's multi_logloss: 0.572099\tvalid_1's multi_logloss: 0.572099\n",
      "[1260]\tvalid_0's multi_logloss: 0.571862\tvalid_1's multi_logloss: 0.571862\n",
      "[1280]\tvalid_0's multi_logloss: 0.571722\tvalid_1's multi_logloss: 0.571722\n",
      "[1300]\tvalid_0's multi_logloss: 0.571554\tvalid_1's multi_logloss: 0.571554\n",
      "[1320]\tvalid_0's multi_logloss: 0.571392\tvalid_1's multi_logloss: 0.571392\n",
      "[1340]\tvalid_0's multi_logloss: 0.57123\tvalid_1's multi_logloss: 0.57123\n",
      "[1360]\tvalid_0's multi_logloss: 0.571114\tvalid_1's multi_logloss: 0.571114\n",
      "[1380]\tvalid_0's multi_logloss: 0.571011\tvalid_1's multi_logloss: 0.571011\n",
      "[1400]\tvalid_0's multi_logloss: 0.570902\tvalid_1's multi_logloss: 0.570902\n",
      "[1420]\tvalid_0's multi_logloss: 0.570754\tvalid_1's multi_logloss: 0.570754\n",
      "[1440]\tvalid_0's multi_logloss: 0.570635\tvalid_1's multi_logloss: 0.570635\n",
      "[1460]\tvalid_0's multi_logloss: 0.570508\tvalid_1's multi_logloss: 0.570508\n",
      "[1480]\tvalid_0's multi_logloss: 0.570374\tvalid_1's multi_logloss: 0.570374\n",
      "[1500]\tvalid_0's multi_logloss: 0.570263\tvalid_1's multi_logloss: 0.570263\n",
      "[1520]\tvalid_0's multi_logloss: 0.570163\tvalid_1's multi_logloss: 0.570163\n",
      "[1540]\tvalid_0's multi_logloss: 0.570005\tvalid_1's multi_logloss: 0.570005\n",
      "[1560]\tvalid_0's multi_logloss: 0.569882\tvalid_1's multi_logloss: 0.569882\n",
      "[1580]\tvalid_0's multi_logloss: 0.56975\tvalid_1's multi_logloss: 0.56975\n",
      "[1600]\tvalid_0's multi_logloss: 0.569637\tvalid_1's multi_logloss: 0.569637\n",
      "[1620]\tvalid_0's multi_logloss: 0.569537\tvalid_1's multi_logloss: 0.569537\n",
      "[1640]\tvalid_0's multi_logloss: 0.569367\tvalid_1's multi_logloss: 0.569367\n",
      "[1660]\tvalid_0's multi_logloss: 0.569216\tvalid_1's multi_logloss: 0.569216\n",
      "[1680]\tvalid_0's multi_logloss: 0.569075\tvalid_1's multi_logloss: 0.569075\n",
      "[1700]\tvalid_0's multi_logloss: 0.568992\tvalid_1's multi_logloss: 0.568992\n",
      "[1720]\tvalid_0's multi_logloss: 0.568853\tvalid_1's multi_logloss: 0.568853\n",
      "[1740]\tvalid_0's multi_logloss: 0.568739\tvalid_1's multi_logloss: 0.568739\n",
      "[1760]\tvalid_0's multi_logloss: 0.568615\tvalid_1's multi_logloss: 0.568615\n",
      "[1780]\tvalid_0's multi_logloss: 0.568488\tvalid_1's multi_logloss: 0.568488\n",
      "[1800]\tvalid_0's multi_logloss: 0.568388\tvalid_1's multi_logloss: 0.568388\n",
      "[1820]\tvalid_0's multi_logloss: 0.568278\tvalid_1's multi_logloss: 0.568278\n",
      "[1840]\tvalid_0's multi_logloss: 0.568173\tvalid_1's multi_logloss: 0.568173\n",
      "[1860]\tvalid_0's multi_logloss: 0.568074\tvalid_1's multi_logloss: 0.568074\n",
      "[1880]\tvalid_0's multi_logloss: 0.567995\tvalid_1's multi_logloss: 0.567995\n",
      "[1900]\tvalid_0's multi_logloss: 0.567886\tvalid_1's multi_logloss: 0.567886\n",
      "[1920]\tvalid_0's multi_logloss: 0.567792\tvalid_1's multi_logloss: 0.567792\n",
      "[1940]\tvalid_0's multi_logloss: 0.567692\tvalid_1's multi_logloss: 0.567692\n",
      "[1960]\tvalid_0's multi_logloss: 0.567578\tvalid_1's multi_logloss: 0.567578\n",
      "[1980]\tvalid_0's multi_logloss: 0.56749\tvalid_1's multi_logloss: 0.56749\n",
      "[2000]\tvalid_0's multi_logloss: 0.567401\tvalid_1's multi_logloss: 0.567401\n",
      "Did not meet early stopping. Best iteration is:\n",
      "[2000]\tvalid_0's multi_logloss: 0.567401\tvalid_1's multi_logloss: 0.567401\n",
      "Val loss 0.5674011317907954\n",
      "[    0     1     2 ... 49349 49350 49351] [19674 19675 19676 ... 29975 29995 29999]\n",
      "Training until validation scores don't improve for 50 rounds.\n",
      "[20]\tvalid_0's multi_logloss: 0.749032\tvalid_1's multi_logloss: 0.749032\n",
      "[40]\tvalid_0's multi_logloss: 0.720868\tvalid_1's multi_logloss: 0.720868\n",
      "[60]\tvalid_0's multi_logloss: 0.699435\tvalid_1's multi_logloss: 0.699435\n",
      "[80]\tvalid_0's multi_logloss: 0.682886\tvalid_1's multi_logloss: 0.682886\n",
      "[100]\tvalid_0's multi_logloss: 0.66972\tvalid_1's multi_logloss: 0.66972\n",
      "[120]\tvalid_0's multi_logloss: 0.658971\tvalid_1's multi_logloss: 0.658971\n",
      "[140]\tvalid_0's multi_logloss: 0.650085\tvalid_1's multi_logloss: 0.650085\n",
      "[160]\tvalid_0's multi_logloss: 0.642723\tvalid_1's multi_logloss: 0.642723\n",
      "[180]\tvalid_0's multi_logloss: 0.636404\tvalid_1's multi_logloss: 0.636404\n",
      "[200]\tvalid_0's multi_logloss: 0.631125\tvalid_1's multi_logloss: 0.631125\n",
      "[220]\tvalid_0's multi_logloss: 0.626425\tvalid_1's multi_logloss: 0.626425\n",
      "[240]\tvalid_0's multi_logloss: 0.62248\tvalid_1's multi_logloss: 0.62248\n"
     ]
    },
    {
     "name": "stdout",
     "output_type": "stream",
     "text": [
      "[260]\tvalid_0's multi_logloss: 0.619195\tvalid_1's multi_logloss: 0.619195\n",
      "[280]\tvalid_0's multi_logloss: 0.616262\tvalid_1's multi_logloss: 0.616262\n",
      "[300]\tvalid_0's multi_logloss: 0.613447\tvalid_1's multi_logloss: 0.613447\n",
      "[320]\tvalid_0's multi_logloss: 0.610771\tvalid_1's multi_logloss: 0.610771\n",
      "[340]\tvalid_0's multi_logloss: 0.60851\tvalid_1's multi_logloss: 0.60851\n",
      "[360]\tvalid_0's multi_logloss: 0.60624\tvalid_1's multi_logloss: 0.60624\n",
      "[380]\tvalid_0's multi_logloss: 0.604125\tvalid_1's multi_logloss: 0.604125\n",
      "[400]\tvalid_0's multi_logloss: 0.602058\tvalid_1's multi_logloss: 0.602058\n",
      "[420]\tvalid_0's multi_logloss: 0.60031\tvalid_1's multi_logloss: 0.60031\n",
      "[440]\tvalid_0's multi_logloss: 0.59883\tvalid_1's multi_logloss: 0.59883\n",
      "[460]\tvalid_0's multi_logloss: 0.5974\tvalid_1's multi_logloss: 0.5974\n",
      "[480]\tvalid_0's multi_logloss: 0.595966\tvalid_1's multi_logloss: 0.595966\n",
      "[500]\tvalid_0's multi_logloss: 0.594764\tvalid_1's multi_logloss: 0.594764\n",
      "[520]\tvalid_0's multi_logloss: 0.593569\tvalid_1's multi_logloss: 0.593569\n",
      "[540]\tvalid_0's multi_logloss: 0.592401\tvalid_1's multi_logloss: 0.592401\n",
      "[560]\tvalid_0's multi_logloss: 0.591409\tvalid_1's multi_logloss: 0.591409\n",
      "[580]\tvalid_0's multi_logloss: 0.590411\tvalid_1's multi_logloss: 0.590411\n",
      "[600]\tvalid_0's multi_logloss: 0.589468\tvalid_1's multi_logloss: 0.589468\n",
      "[620]\tvalid_0's multi_logloss: 0.588557\tvalid_1's multi_logloss: 0.588557\n",
      "[640]\tvalid_0's multi_logloss: 0.587739\tvalid_1's multi_logloss: 0.587739\n",
      "[660]\tvalid_0's multi_logloss: 0.587031\tvalid_1's multi_logloss: 0.587031\n",
      "[680]\tvalid_0's multi_logloss: 0.58635\tvalid_1's multi_logloss: 0.58635\n",
      "[700]\tvalid_0's multi_logloss: 0.585634\tvalid_1's multi_logloss: 0.585634\n",
      "[720]\tvalid_0's multi_logloss: 0.584985\tvalid_1's multi_logloss: 0.584985\n",
      "[740]\tvalid_0's multi_logloss: 0.584259\tvalid_1's multi_logloss: 0.584259\n",
      "[760]\tvalid_0's multi_logloss: 0.583605\tvalid_1's multi_logloss: 0.583605\n",
      "[780]\tvalid_0's multi_logloss: 0.582981\tvalid_1's multi_logloss: 0.582981\n",
      "[800]\tvalid_0's multi_logloss: 0.582396\tvalid_1's multi_logloss: 0.582396\n",
      "[820]\tvalid_0's multi_logloss: 0.581877\tvalid_1's multi_logloss: 0.581877\n",
      "[840]\tvalid_0's multi_logloss: 0.581381\tvalid_1's multi_logloss: 0.581381\n",
      "[860]\tvalid_0's multi_logloss: 0.580954\tvalid_1's multi_logloss: 0.580954\n",
      "[880]\tvalid_0's multi_logloss: 0.580513\tvalid_1's multi_logloss: 0.580513\n",
      "[900]\tvalid_0's multi_logloss: 0.580115\tvalid_1's multi_logloss: 0.580115\n",
      "[920]\tvalid_0's multi_logloss: 0.579693\tvalid_1's multi_logloss: 0.579693\n",
      "[940]\tvalid_0's multi_logloss: 0.579293\tvalid_1's multi_logloss: 0.579293\n",
      "[960]\tvalid_0's multi_logloss: 0.578836\tvalid_1's multi_logloss: 0.578836\n",
      "[980]\tvalid_0's multi_logloss: 0.57846\tvalid_1's multi_logloss: 0.57846\n",
      "[1000]\tvalid_0's multi_logloss: 0.578042\tvalid_1's multi_logloss: 0.578042\n",
      "[1020]\tvalid_0's multi_logloss: 0.577702\tvalid_1's multi_logloss: 0.577702\n",
      "[1040]\tvalid_0's multi_logloss: 0.577383\tvalid_1's multi_logloss: 0.577383\n",
      "[1060]\tvalid_0's multi_logloss: 0.577073\tvalid_1's multi_logloss: 0.577073\n",
      "[1080]\tvalid_0's multi_logloss: 0.576792\tvalid_1's multi_logloss: 0.576792\n",
      "[1100]\tvalid_0's multi_logloss: 0.576496\tvalid_1's multi_logloss: 0.576496\n",
      "[1120]\tvalid_0's multi_logloss: 0.576237\tvalid_1's multi_logloss: 0.576237\n",
      "[1140]\tvalid_0's multi_logloss: 0.575942\tvalid_1's multi_logloss: 0.575942\n",
      "[1160]\tvalid_0's multi_logloss: 0.575722\tvalid_1's multi_logloss: 0.575722\n",
      "[1180]\tvalid_0's multi_logloss: 0.575457\tvalid_1's multi_logloss: 0.575457\n",
      "[1200]\tvalid_0's multi_logloss: 0.575188\tvalid_1's multi_logloss: 0.575188\n",
      "[1220]\tvalid_0's multi_logloss: 0.574985\tvalid_1's multi_logloss: 0.574985\n",
      "[1240]\tvalid_0's multi_logloss: 0.574714\tvalid_1's multi_logloss: 0.574714\n",
      "[1260]\tvalid_0's multi_logloss: 0.574503\tvalid_1's multi_logloss: 0.574503\n",
      "[1280]\tvalid_0's multi_logloss: 0.574224\tvalid_1's multi_logloss: 0.574224\n",
      "[1300]\tvalid_0's multi_logloss: 0.574021\tvalid_1's multi_logloss: 0.574021\n",
      "[1320]\tvalid_0's multi_logloss: 0.573787\tvalid_1's multi_logloss: 0.573787\n",
      "[1340]\tvalid_0's multi_logloss: 0.573548\tvalid_1's multi_logloss: 0.573548\n",
      "[1360]\tvalid_0's multi_logloss: 0.573363\tvalid_1's multi_logloss: 0.573363\n",
      "[1380]\tvalid_0's multi_logloss: 0.573161\tvalid_1's multi_logloss: 0.573161\n",
      "[1400]\tvalid_0's multi_logloss: 0.573045\tvalid_1's multi_logloss: 0.573045\n",
      "[1420]\tvalid_0's multi_logloss: 0.572921\tvalid_1's multi_logloss: 0.572921\n",
      "[1440]\tvalid_0's multi_logloss: 0.572778\tvalid_1's multi_logloss: 0.572778\n",
      "[1460]\tvalid_0's multi_logloss: 0.572662\tvalid_1's multi_logloss: 0.572662\n",
      "[1480]\tvalid_0's multi_logloss: 0.57255\tvalid_1's multi_logloss: 0.57255\n",
      "[1500]\tvalid_0's multi_logloss: 0.572431\tvalid_1's multi_logloss: 0.572431\n",
      "[1520]\tvalid_0's multi_logloss: 0.572332\tvalid_1's multi_logloss: 0.572332\n",
      "[1540]\tvalid_0's multi_logloss: 0.572265\tvalid_1's multi_logloss: 0.572265\n",
      "[1560]\tvalid_0's multi_logloss: 0.572151\tvalid_1's multi_logloss: 0.572151\n",
      "[1580]\tvalid_0's multi_logloss: 0.572052\tvalid_1's multi_logloss: 0.572052\n",
      "[1600]\tvalid_0's multi_logloss: 0.571955\tvalid_1's multi_logloss: 0.571955\n",
      "[1620]\tvalid_0's multi_logloss: 0.571906\tvalid_1's multi_logloss: 0.571906\n",
      "[1640]\tvalid_0's multi_logloss: 0.571807\tvalid_1's multi_logloss: 0.571807\n",
      "[1660]\tvalid_0's multi_logloss: 0.571704\tvalid_1's multi_logloss: 0.571704\n",
      "[1680]\tvalid_0's multi_logloss: 0.571613\tvalid_1's multi_logloss: 0.571613\n",
      "[1700]\tvalid_0's multi_logloss: 0.57151\tvalid_1's multi_logloss: 0.57151\n",
      "[1720]\tvalid_0's multi_logloss: 0.571413\tvalid_1's multi_logloss: 0.571413\n",
      "[1740]\tvalid_0's multi_logloss: 0.571287\tvalid_1's multi_logloss: 0.571287\n",
      "[1760]\tvalid_0's multi_logloss: 0.571143\tvalid_1's multi_logloss: 0.571143\n",
      "[1780]\tvalid_0's multi_logloss: 0.571028\tvalid_1's multi_logloss: 0.571028\n",
      "[1800]\tvalid_0's multi_logloss: 0.570929\tvalid_1's multi_logloss: 0.570929\n",
      "[1820]\tvalid_0's multi_logloss: 0.570822\tvalid_1's multi_logloss: 0.570822\n",
      "[1840]\tvalid_0's multi_logloss: 0.57073\tvalid_1's multi_logloss: 0.57073\n",
      "[1860]\tvalid_0's multi_logloss: 0.570574\tvalid_1's multi_logloss: 0.570574\n",
      "[1880]\tvalid_0's multi_logloss: 0.570478\tvalid_1's multi_logloss: 0.570478\n",
      "[1900]\tvalid_0's multi_logloss: 0.570355\tvalid_1's multi_logloss: 0.570355\n",
      "[1920]\tvalid_0's multi_logloss: 0.570309\tvalid_1's multi_logloss: 0.570309\n",
      "[1940]\tvalid_0's multi_logloss: 0.570205\tvalid_1's multi_logloss: 0.570205\n",
      "[1960]\tvalid_0's multi_logloss: 0.57012\tvalid_1's multi_logloss: 0.57012\n",
      "[1980]\tvalid_0's multi_logloss: 0.570037\tvalid_1's multi_logloss: 0.570037\n",
      "[2000]\tvalid_0's multi_logloss: 0.569981\tvalid_1's multi_logloss: 0.569981\n",
      "Did not meet early stopping. Best iteration is:\n",
      "[2000]\tvalid_0's multi_logloss: 0.569981\tvalid_1's multi_logloss: 0.569981\n",
      "Val loss 0.5699810383428593\n",
      "[    0     1     2 ... 49349 49350 49351] [29513 29514 29515 ... 39683 39684 39705]\n",
      "Training until validation scores don't improve for 50 rounds.\n",
      "[20]\tvalid_0's multi_logloss: 0.748559\tvalid_1's multi_logloss: 0.748559\n",
      "[40]\tvalid_0's multi_logloss: 0.720321\tvalid_1's multi_logloss: 0.720321\n",
      "[60]\tvalid_0's multi_logloss: 0.698701\tvalid_1's multi_logloss: 0.698701\n",
      "[80]\tvalid_0's multi_logloss: 0.681586\tvalid_1's multi_logloss: 0.681586\n",
      "[100]\tvalid_0's multi_logloss: 0.668156\tvalid_1's multi_logloss: 0.668156\n",
      "[120]\tvalid_0's multi_logloss: 0.657411\tvalid_1's multi_logloss: 0.657411\n",
      "[140]\tvalid_0's multi_logloss: 0.648214\tvalid_1's multi_logloss: 0.648214\n",
      "[160]\tvalid_0's multi_logloss: 0.64044\tvalid_1's multi_logloss: 0.64044\n",
      "[180]\tvalid_0's multi_logloss: 0.633795\tvalid_1's multi_logloss: 0.633795\n",
      "[200]\tvalid_0's multi_logloss: 0.628107\tvalid_1's multi_logloss: 0.628107\n",
      "[220]\tvalid_0's multi_logloss: 0.62305\tvalid_1's multi_logloss: 0.62305\n",
      "[240]\tvalid_0's multi_logloss: 0.618794\tvalid_1's multi_logloss: 0.618794\n",
      "[260]\tvalid_0's multi_logloss: 0.615272\tvalid_1's multi_logloss: 0.615272\n",
      "[280]\tvalid_0's multi_logloss: 0.611983\tvalid_1's multi_logloss: 0.611983\n",
      "[300]\tvalid_0's multi_logloss: 0.609039\tvalid_1's multi_logloss: 0.609039\n",
      "[320]\tvalid_0's multi_logloss: 0.606403\tvalid_1's multi_logloss: 0.606403\n",
      "[340]\tvalid_0's multi_logloss: 0.603982\tvalid_1's multi_logloss: 0.603982\n",
      "[360]\tvalid_0's multi_logloss: 0.601947\tvalid_1's multi_logloss: 0.601947\n",
      "[380]\tvalid_0's multi_logloss: 0.599898\tvalid_1's multi_logloss: 0.599898\n"
     ]
    },
    {
     "name": "stdout",
     "output_type": "stream",
     "text": [
      "[400]\tvalid_0's multi_logloss: 0.597893\tvalid_1's multi_logloss: 0.597893\n",
      "[420]\tvalid_0's multi_logloss: 0.596071\tvalid_1's multi_logloss: 0.596071\n",
      "[440]\tvalid_0's multi_logloss: 0.594354\tvalid_1's multi_logloss: 0.594354\n",
      "[460]\tvalid_0's multi_logloss: 0.592864\tvalid_1's multi_logloss: 0.592864\n",
      "[480]\tvalid_0's multi_logloss: 0.591404\tvalid_1's multi_logloss: 0.591404\n",
      "[500]\tvalid_0's multi_logloss: 0.590062\tvalid_1's multi_logloss: 0.590062\n",
      "[520]\tvalid_0's multi_logloss: 0.588786\tvalid_1's multi_logloss: 0.588786\n",
      "[540]\tvalid_0's multi_logloss: 0.587629\tvalid_1's multi_logloss: 0.587629\n",
      "[560]\tvalid_0's multi_logloss: 0.586537\tvalid_1's multi_logloss: 0.586537\n",
      "[580]\tvalid_0's multi_logloss: 0.58558\tvalid_1's multi_logloss: 0.58558\n",
      "[600]\tvalid_0's multi_logloss: 0.584657\tvalid_1's multi_logloss: 0.584657\n",
      "[620]\tvalid_0's multi_logloss: 0.583744\tvalid_1's multi_logloss: 0.583744\n",
      "[640]\tvalid_0's multi_logloss: 0.582921\tvalid_1's multi_logloss: 0.582921\n",
      "[660]\tvalid_0's multi_logloss: 0.582123\tvalid_1's multi_logloss: 0.582123\n",
      "[680]\tvalid_0's multi_logloss: 0.581439\tvalid_1's multi_logloss: 0.581439\n",
      "[700]\tvalid_0's multi_logloss: 0.580772\tvalid_1's multi_logloss: 0.580772\n",
      "[720]\tvalid_0's multi_logloss: 0.580114\tvalid_1's multi_logloss: 0.580114\n",
      "[740]\tvalid_0's multi_logloss: 0.57944\tvalid_1's multi_logloss: 0.57944\n",
      "[760]\tvalid_0's multi_logloss: 0.578806\tvalid_1's multi_logloss: 0.578806\n",
      "[780]\tvalid_0's multi_logloss: 0.578203\tvalid_1's multi_logloss: 0.578203\n",
      "[800]\tvalid_0's multi_logloss: 0.577654\tvalid_1's multi_logloss: 0.577654\n",
      "[820]\tvalid_0's multi_logloss: 0.577142\tvalid_1's multi_logloss: 0.577142\n",
      "[840]\tvalid_0's multi_logloss: 0.576656\tvalid_1's multi_logloss: 0.576656\n",
      "[860]\tvalid_0's multi_logloss: 0.576117\tvalid_1's multi_logloss: 0.576117\n",
      "[880]\tvalid_0's multi_logloss: 0.575643\tvalid_1's multi_logloss: 0.575643\n",
      "[900]\tvalid_0's multi_logloss: 0.575207\tvalid_1's multi_logloss: 0.575207\n",
      "[920]\tvalid_0's multi_logloss: 0.574834\tvalid_1's multi_logloss: 0.574834\n",
      "[940]\tvalid_0's multi_logloss: 0.574499\tvalid_1's multi_logloss: 0.574499\n",
      "[960]\tvalid_0's multi_logloss: 0.574215\tvalid_1's multi_logloss: 0.574215\n",
      "[980]\tvalid_0's multi_logloss: 0.573885\tvalid_1's multi_logloss: 0.573885\n",
      "[1000]\tvalid_0's multi_logloss: 0.573545\tvalid_1's multi_logloss: 0.573545\n",
      "[1020]\tvalid_0's multi_logloss: 0.573228\tvalid_1's multi_logloss: 0.573228\n",
      "[1040]\tvalid_0's multi_logloss: 0.572974\tvalid_1's multi_logloss: 0.572974\n",
      "[1060]\tvalid_0's multi_logloss: 0.572654\tvalid_1's multi_logloss: 0.572654\n",
      "[1080]\tvalid_0's multi_logloss: 0.572347\tvalid_1's multi_logloss: 0.572347\n",
      "[1100]\tvalid_0's multi_logloss: 0.572126\tvalid_1's multi_logloss: 0.572126\n",
      "[1120]\tvalid_0's multi_logloss: 0.571889\tvalid_1's multi_logloss: 0.571889\n",
      "[1140]\tvalid_0's multi_logloss: 0.571654\tvalid_1's multi_logloss: 0.571654\n",
      "[1160]\tvalid_0's multi_logloss: 0.571411\tvalid_1's multi_logloss: 0.571411\n",
      "[1180]\tvalid_0's multi_logloss: 0.571218\tvalid_1's multi_logloss: 0.571218\n",
      "[1200]\tvalid_0's multi_logloss: 0.571056\tvalid_1's multi_logloss: 0.571056\n",
      "[1220]\tvalid_0's multi_logloss: 0.570918\tvalid_1's multi_logloss: 0.570918\n",
      "[1240]\tvalid_0's multi_logloss: 0.570632\tvalid_1's multi_logloss: 0.570632\n",
      "[1260]\tvalid_0's multi_logloss: 0.570461\tvalid_1's multi_logloss: 0.570461\n",
      "[1280]\tvalid_0's multi_logloss: 0.570302\tvalid_1's multi_logloss: 0.570302\n",
      "[1300]\tvalid_0's multi_logloss: 0.570124\tvalid_1's multi_logloss: 0.570124\n",
      "[1320]\tvalid_0's multi_logloss: 0.569965\tvalid_1's multi_logloss: 0.569965\n",
      "[1340]\tvalid_0's multi_logloss: 0.56981\tvalid_1's multi_logloss: 0.56981\n",
      "[1360]\tvalid_0's multi_logloss: 0.569699\tvalid_1's multi_logloss: 0.569699\n",
      "[1380]\tvalid_0's multi_logloss: 0.56949\tvalid_1's multi_logloss: 0.56949\n",
      "[1400]\tvalid_0's multi_logloss: 0.569317\tvalid_1's multi_logloss: 0.569317\n",
      "[1420]\tvalid_0's multi_logloss: 0.569152\tvalid_1's multi_logloss: 0.569152\n",
      "[1440]\tvalid_0's multi_logloss: 0.568932\tvalid_1's multi_logloss: 0.568932\n",
      "[1460]\tvalid_0's multi_logloss: 0.568734\tvalid_1's multi_logloss: 0.568734\n",
      "[1480]\tvalid_0's multi_logloss: 0.568529\tvalid_1's multi_logloss: 0.568529\n",
      "[1500]\tvalid_0's multi_logloss: 0.568355\tvalid_1's multi_logloss: 0.568355\n",
      "[1520]\tvalid_0's multi_logloss: 0.568249\tvalid_1's multi_logloss: 0.568249\n",
      "[1540]\tvalid_0's multi_logloss: 0.568111\tvalid_1's multi_logloss: 0.568111\n",
      "[1560]\tvalid_0's multi_logloss: 0.567925\tvalid_1's multi_logloss: 0.567925\n",
      "[1580]\tvalid_0's multi_logloss: 0.56783\tvalid_1's multi_logloss: 0.56783\n",
      "[1600]\tvalid_0's multi_logloss: 0.567723\tvalid_1's multi_logloss: 0.567723\n",
      "[1620]\tvalid_0's multi_logloss: 0.567596\tvalid_1's multi_logloss: 0.567596\n",
      "[1640]\tvalid_0's multi_logloss: 0.567465\tvalid_1's multi_logloss: 0.567465\n",
      "[1660]\tvalid_0's multi_logloss: 0.567358\tvalid_1's multi_logloss: 0.567358\n",
      "[1680]\tvalid_0's multi_logloss: 0.567269\tvalid_1's multi_logloss: 0.567269\n",
      "[1700]\tvalid_0's multi_logloss: 0.567144\tvalid_1's multi_logloss: 0.567144\n",
      "[1720]\tvalid_0's multi_logloss: 0.567005\tvalid_1's multi_logloss: 0.567005\n",
      "[1740]\tvalid_0's multi_logloss: 0.566909\tvalid_1's multi_logloss: 0.566909\n",
      "[1760]\tvalid_0's multi_logloss: 0.5668\tvalid_1's multi_logloss: 0.5668\n",
      "[1780]\tvalid_0's multi_logloss: 0.566733\tvalid_1's multi_logloss: 0.566733\n",
      "[1800]\tvalid_0's multi_logloss: 0.566647\tvalid_1's multi_logloss: 0.566647\n",
      "[1820]\tvalid_0's multi_logloss: 0.566497\tvalid_1's multi_logloss: 0.566497\n",
      "[1840]\tvalid_0's multi_logloss: 0.566414\tvalid_1's multi_logloss: 0.566414\n",
      "[1860]\tvalid_0's multi_logloss: 0.566303\tvalid_1's multi_logloss: 0.566303\n",
      "[1880]\tvalid_0's multi_logloss: 0.566163\tvalid_1's multi_logloss: 0.566163\n",
      "[1900]\tvalid_0's multi_logloss: 0.566095\tvalid_1's multi_logloss: 0.566095\n",
      "[1920]\tvalid_0's multi_logloss: 0.566046\tvalid_1's multi_logloss: 0.566046\n",
      "[1940]\tvalid_0's multi_logloss: 0.565975\tvalid_1's multi_logloss: 0.565975\n",
      "[1960]\tvalid_0's multi_logloss: 0.565927\tvalid_1's multi_logloss: 0.565927\n",
      "[1980]\tvalid_0's multi_logloss: 0.565841\tvalid_1's multi_logloss: 0.565841\n",
      "[2000]\tvalid_0's multi_logloss: 0.565821\tvalid_1's multi_logloss: 0.565821\n",
      "Did not meet early stopping. Best iteration is:\n",
      "[1990]\tvalid_0's multi_logloss: 0.565817\tvalid_1's multi_logloss: 0.565817\n",
      "Val loss 0.565816973899628\n",
      "[    0     1     2 ... 39683 39684 39705] [39411 39413 39415 ... 49349 49350 49351]\n",
      "Training until validation scores don't improve for 50 rounds.\n",
      "[20]\tvalid_0's multi_logloss: 0.748611\tvalid_1's multi_logloss: 0.748611\n",
      "[40]\tvalid_0's multi_logloss: 0.720418\tvalid_1's multi_logloss: 0.720418\n",
      "[60]\tvalid_0's multi_logloss: 0.699372\tvalid_1's multi_logloss: 0.699372\n",
      "[80]\tvalid_0's multi_logloss: 0.682944\tvalid_1's multi_logloss: 0.682944\n",
      "[100]\tvalid_0's multi_logloss: 0.670157\tvalid_1's multi_logloss: 0.670157\n",
      "[120]\tvalid_0's multi_logloss: 0.659728\tvalid_1's multi_logloss: 0.659728\n",
      "[140]\tvalid_0's multi_logloss: 0.651224\tvalid_1's multi_logloss: 0.651224\n",
      "[160]\tvalid_0's multi_logloss: 0.644055\tvalid_1's multi_logloss: 0.644055\n",
      "[180]\tvalid_0's multi_logloss: 0.638208\tvalid_1's multi_logloss: 0.638208\n",
      "[200]\tvalid_0's multi_logloss: 0.63314\tvalid_1's multi_logloss: 0.63314\n",
      "[220]\tvalid_0's multi_logloss: 0.62868\tvalid_1's multi_logloss: 0.62868\n",
      "[240]\tvalid_0's multi_logloss: 0.624703\tvalid_1's multi_logloss: 0.624703\n",
      "[260]\tvalid_0's multi_logloss: 0.621254\tvalid_1's multi_logloss: 0.621254\n",
      "[280]\tvalid_0's multi_logloss: 0.618257\tvalid_1's multi_logloss: 0.618257\n",
      "[300]\tvalid_0's multi_logloss: 0.615451\tvalid_1's multi_logloss: 0.615451\n",
      "[320]\tvalid_0's multi_logloss: 0.612801\tvalid_1's multi_logloss: 0.612801\n",
      "[340]\tvalid_0's multi_logloss: 0.610613\tvalid_1's multi_logloss: 0.610613\n",
      "[360]\tvalid_0's multi_logloss: 0.608495\tvalid_1's multi_logloss: 0.608495\n",
      "[380]\tvalid_0's multi_logloss: 0.606587\tvalid_1's multi_logloss: 0.606587\n",
      "[400]\tvalid_0's multi_logloss: 0.604877\tvalid_1's multi_logloss: 0.604877\n",
      "[420]\tvalid_0's multi_logloss: 0.603248\tvalid_1's multi_logloss: 0.603248\n",
      "[440]\tvalid_0's multi_logloss: 0.601806\tvalid_1's multi_logloss: 0.601806\n",
      "[460]\tvalid_0's multi_logloss: 0.600368\tvalid_1's multi_logloss: 0.600368\n",
      "[480]\tvalid_0's multi_logloss: 0.599057\tvalid_1's multi_logloss: 0.599057\n",
      "[500]\tvalid_0's multi_logloss: 0.597901\tvalid_1's multi_logloss: 0.597901\n",
      "[520]\tvalid_0's multi_logloss: 0.596717\tvalid_1's multi_logloss: 0.596717\n"
     ]
    },
    {
     "name": "stdout",
     "output_type": "stream",
     "text": [
      "[540]\tvalid_0's multi_logloss: 0.595648\tvalid_1's multi_logloss: 0.595648\n",
      "[560]\tvalid_0's multi_logloss: 0.594647\tvalid_1's multi_logloss: 0.594647\n",
      "[580]\tvalid_0's multi_logloss: 0.5936\tvalid_1's multi_logloss: 0.5936\n",
      "[600]\tvalid_0's multi_logloss: 0.592576\tvalid_1's multi_logloss: 0.592576\n",
      "[620]\tvalid_0's multi_logloss: 0.591617\tvalid_1's multi_logloss: 0.591617\n",
      "[640]\tvalid_0's multi_logloss: 0.590759\tvalid_1's multi_logloss: 0.590759\n",
      "[660]\tvalid_0's multi_logloss: 0.589956\tvalid_1's multi_logloss: 0.589956\n",
      "[680]\tvalid_0's multi_logloss: 0.589147\tvalid_1's multi_logloss: 0.589147\n",
      "[700]\tvalid_0's multi_logloss: 0.588488\tvalid_1's multi_logloss: 0.588488\n",
      "[720]\tvalid_0's multi_logloss: 0.587833\tvalid_1's multi_logloss: 0.587833\n",
      "[740]\tvalid_0's multi_logloss: 0.587177\tvalid_1's multi_logloss: 0.587177\n",
      "[760]\tvalid_0's multi_logloss: 0.586608\tvalid_1's multi_logloss: 0.586608\n",
      "[780]\tvalid_0's multi_logloss: 0.585953\tvalid_1's multi_logloss: 0.585953\n",
      "[800]\tvalid_0's multi_logloss: 0.585268\tvalid_1's multi_logloss: 0.585268\n",
      "[820]\tvalid_0's multi_logloss: 0.584707\tvalid_1's multi_logloss: 0.584707\n",
      "[840]\tvalid_0's multi_logloss: 0.584141\tvalid_1's multi_logloss: 0.584141\n",
      "[860]\tvalid_0's multi_logloss: 0.583598\tvalid_1's multi_logloss: 0.583598\n",
      "[880]\tvalid_0's multi_logloss: 0.583121\tvalid_1's multi_logloss: 0.583121\n",
      "[900]\tvalid_0's multi_logloss: 0.582657\tvalid_1's multi_logloss: 0.582657\n",
      "[920]\tvalid_0's multi_logloss: 0.582293\tvalid_1's multi_logloss: 0.582293\n",
      "[940]\tvalid_0's multi_logloss: 0.581936\tvalid_1's multi_logloss: 0.581936\n",
      "[960]\tvalid_0's multi_logloss: 0.581572\tvalid_1's multi_logloss: 0.581572\n",
      "[980]\tvalid_0's multi_logloss: 0.581194\tvalid_1's multi_logloss: 0.581194\n",
      "[1000]\tvalid_0's multi_logloss: 0.58082\tvalid_1's multi_logloss: 0.58082\n",
      "[1020]\tvalid_0's multi_logloss: 0.58047\tvalid_1's multi_logloss: 0.58047\n",
      "[1040]\tvalid_0's multi_logloss: 0.580121\tvalid_1's multi_logloss: 0.580121\n",
      "[1060]\tvalid_0's multi_logloss: 0.579795\tvalid_1's multi_logloss: 0.579795\n",
      "[1080]\tvalid_0's multi_logloss: 0.579531\tvalid_1's multi_logloss: 0.579531\n",
      "[1100]\tvalid_0's multi_logloss: 0.579245\tvalid_1's multi_logloss: 0.579245\n",
      "[1120]\tvalid_0's multi_logloss: 0.578938\tvalid_1's multi_logloss: 0.578938\n",
      "[1140]\tvalid_0's multi_logloss: 0.578723\tvalid_1's multi_logloss: 0.578723\n",
      "[1160]\tvalid_0's multi_logloss: 0.578453\tvalid_1's multi_logloss: 0.578453\n",
      "[1180]\tvalid_0's multi_logloss: 0.578214\tvalid_1's multi_logloss: 0.578214\n",
      "[1200]\tvalid_0's multi_logloss: 0.57795\tvalid_1's multi_logloss: 0.57795\n",
      "[1220]\tvalid_0's multi_logloss: 0.577681\tvalid_1's multi_logloss: 0.577681\n",
      "[1240]\tvalid_0's multi_logloss: 0.577477\tvalid_1's multi_logloss: 0.577477\n",
      "[1260]\tvalid_0's multi_logloss: 0.577268\tvalid_1's multi_logloss: 0.577268\n",
      "[1280]\tvalid_0's multi_logloss: 0.577038\tvalid_1's multi_logloss: 0.577038\n",
      "[1300]\tvalid_0's multi_logloss: 0.576842\tvalid_1's multi_logloss: 0.576842\n",
      "[1320]\tvalid_0's multi_logloss: 0.576721\tvalid_1's multi_logloss: 0.576721\n",
      "[1340]\tvalid_0's multi_logloss: 0.576537\tvalid_1's multi_logloss: 0.576537\n",
      "[1360]\tvalid_0's multi_logloss: 0.576343\tvalid_1's multi_logloss: 0.576343\n",
      "[1380]\tvalid_0's multi_logloss: 0.576118\tvalid_1's multi_logloss: 0.576118\n",
      "[1400]\tvalid_0's multi_logloss: 0.575903\tvalid_1's multi_logloss: 0.575903\n",
      "[1420]\tvalid_0's multi_logloss: 0.57568\tvalid_1's multi_logloss: 0.57568\n",
      "[1440]\tvalid_0's multi_logloss: 0.575508\tvalid_1's multi_logloss: 0.575508\n",
      "[1460]\tvalid_0's multi_logloss: 0.575317\tvalid_1's multi_logloss: 0.575317\n",
      "[1480]\tvalid_0's multi_logloss: 0.575166\tvalid_1's multi_logloss: 0.575166\n",
      "[1500]\tvalid_0's multi_logloss: 0.574999\tvalid_1's multi_logloss: 0.574999\n",
      "[1520]\tvalid_0's multi_logloss: 0.574822\tvalid_1's multi_logloss: 0.574822\n",
      "[1540]\tvalid_0's multi_logloss: 0.574661\tvalid_1's multi_logloss: 0.574661\n",
      "[1560]\tvalid_0's multi_logloss: 0.574525\tvalid_1's multi_logloss: 0.574525\n",
      "[1580]\tvalid_0's multi_logloss: 0.574354\tvalid_1's multi_logloss: 0.574354\n",
      "[1600]\tvalid_0's multi_logloss: 0.574245\tvalid_1's multi_logloss: 0.574245\n",
      "[1620]\tvalid_0's multi_logloss: 0.574133\tvalid_1's multi_logloss: 0.574133\n",
      "[1640]\tvalid_0's multi_logloss: 0.574053\tvalid_1's multi_logloss: 0.574053\n",
      "[1660]\tvalid_0's multi_logloss: 0.573905\tvalid_1's multi_logloss: 0.573905\n",
      "[1680]\tvalid_0's multi_logloss: 0.573798\tvalid_1's multi_logloss: 0.573798\n",
      "[1700]\tvalid_0's multi_logloss: 0.573727\tvalid_1's multi_logloss: 0.573727\n",
      "[1720]\tvalid_0's multi_logloss: 0.573618\tvalid_1's multi_logloss: 0.573618\n",
      "[1740]\tvalid_0's multi_logloss: 0.573559\tvalid_1's multi_logloss: 0.573559\n",
      "[1760]\tvalid_0's multi_logloss: 0.573503\tvalid_1's multi_logloss: 0.573503\n",
      "[1780]\tvalid_0's multi_logloss: 0.573412\tvalid_1's multi_logloss: 0.573412\n",
      "[1800]\tvalid_0's multi_logloss: 0.573307\tvalid_1's multi_logloss: 0.573307\n",
      "[1820]\tvalid_0's multi_logloss: 0.573198\tvalid_1's multi_logloss: 0.573198\n",
      "[1840]\tvalid_0's multi_logloss: 0.573127\tvalid_1's multi_logloss: 0.573127\n",
      "[1860]\tvalid_0's multi_logloss: 0.573058\tvalid_1's multi_logloss: 0.573058\n",
      "[1880]\tvalid_0's multi_logloss: 0.572927\tvalid_1's multi_logloss: 0.572927\n",
      "[1900]\tvalid_0's multi_logloss: 0.572858\tvalid_1's multi_logloss: 0.572858\n",
      "[1920]\tvalid_0's multi_logloss: 0.572787\tvalid_1's multi_logloss: 0.572787\n",
      "[1940]\tvalid_0's multi_logloss: 0.572706\tvalid_1's multi_logloss: 0.572706\n",
      "[1960]\tvalid_0's multi_logloss: 0.572616\tvalid_1's multi_logloss: 0.572616\n",
      "[1980]\tvalid_0's multi_logloss: 0.572487\tvalid_1's multi_logloss: 0.572487\n",
      "[2000]\tvalid_0's multi_logloss: 0.572416\tvalid_1's multi_logloss: 0.572416\n",
      "Did not meet early stopping. Best iteration is:\n",
      "[1999]\tvalid_0's multi_logloss: 0.572409\tvalid_1's multi_logloss: 0.572409\n",
      "Val loss 0.5724088185578424\n"
     ]
    }
   ],
   "source": [
    "# lightGBM\n",
    "clf = LGBMClassifier(learning_rate=0.01, n_estimators=2000, n_jobs=2)\n",
    "# clf = LGBMClassifier(n_estimators=500)\n",
    "\n",
    "train_X = train_df[features_to_use].values\n",
    "test_X = test_df[features_to_use].values\n",
    "\n",
    "kf = StratifiedKFold(n_splits=5)\n",
    "test_pred = None\n",
    "for train_idx, test_idx, in kf.split(train_X, train_df['interest_level']):\n",
    "    \n",
    "    print(train_idx, test_idx)\n",
    "    clf.fit(train_X[train_idx], train_y[train_idx], \n",
    "            eval_set=[(train_X[test_idx], train_y[test_idx]), (train_X[test_idx], train_y[test_idx])],\n",
    "           verbose=20, early_stopping_rounds=50)\n",
    "    print('Val loss', log_loss(train_y[test_idx], \n",
    "                   clf.predict_proba(train_X[test_idx])))\n",
    "    \n",
    "    if test_pred is None:\n",
    "        test_pred = clf.predict_proba(test_X)\n",
    "    else:\n",
    "        test_pred += clf.predict_proba(test_X)\n",
    "\n",
    "test_pred /= 5"
   ]
  },
  {
   "cell_type": "code",
   "execution_count": 185,
   "metadata": {
    "ExecuteTime": {
     "end_time": "2020-08-01T08:06:09.967884Z",
     "start_time": "2020-08-01T08:06:09.636119Z"
    }
   },
   "outputs": [],
   "source": [
    "out_df = pd.DataFrame(test_pred)\n",
    "out_df.columns = [\"high\", \"medium\", \"low\"]\n",
    "out_df[\"listing_id\"] = test_df.listing_id.values\n",
    "out_df.to_csv(\"xgb_starter2.csv\", index=False)"
   ]
  },
  {
   "cell_type": "markdown",
   "metadata": {},
   "source": [
    "# 参数搜索"
   ]
  },
  {
   "cell_type": "code",
   "execution_count": 216,
   "metadata": {
    "ExecuteTime": {
     "end_time": "2020-08-01T14:05:10.715294Z",
     "start_time": "2020-08-01T14:05:10.707254Z"
    }
   },
   "outputs": [],
   "source": [
    "LGBMClassifier?"
   ]
  },
  {
   "cell_type": "code",
   "execution_count": 217,
   "metadata": {
    "ExecuteTime": {
     "end_time": "2020-08-01T14:07:04.722628Z",
     "start_time": "2020-08-01T14:06:25.383351Z"
    },
    "scrolled": true
   },
   "outputs": [
    {
     "data": {
      "text/plain": [
       "GridSearchCV(cv=5, error_score=nan,\n",
       "             estimator=LGBMClassifier(boosting_type='gbdt', class_weight=None,\n",
       "                                      colsample_bytree=1.0,\n",
       "                                      importance_type='split',\n",
       "                                      learning_rate=0.1, max_depth=-1,\n",
       "                                      min_child_samples=20,\n",
       "                                      min_child_weight=0.001,\n",
       "                                      min_split_gain=0.0, n_estimators=100,\n",
       "                                      n_jobs=-1, num_leaves=31, objective=None,\n",
       "                                      random_state=None, reg_alpha=0.0,\n",
       "                                      reg_lambda=0.0, silent=True,\n",
       "                                      subsample=1.0, subsample_for_bin=200000,\n",
       "                                      subsample_freq=0),\n",
       "             iid='deprecated', n_jobs=6,\n",
       "             param_grid={'min_child_samples': (5, 10, 15),\n",
       "                         'num_leaves': (4, 8, 16, 32),\n",
       "                         'subsample': (0.75, 0.85, 0.95)},\n",
       "             pre_dispatch='2*n_jobs', refit=True, return_train_score=False,\n",
       "             scoring=<function my_scorer at 0x7f724d716ae8>, verbose=0)"
      ]
     },
     "execution_count": 217,
     "metadata": {},
     "output_type": "execute_result"
    }
   ],
   "source": [
    "from sklearn.metrics import make_scorer\n",
    "def my_scorer(clf, X, y_true):\n",
    "    class_labels = clf.classes_\n",
    "    y_pred_proba = clf.predict_proba(X)\n",
    "    return log_loss(y_true, y_pred_proba)\n",
    "\n",
    "from sklearn.model_selection import GridSearchCV\n",
    "parameters = {\n",
    "    'num_leaves':( 4, 8, 16, 32), \n",
    "    'subsample':(0.75, 0.85, 0.95),\n",
    "    'min_child_samples': (5, 10, 15)\n",
    "}\n",
    "\n",
    "clf = GridSearchCV(LGBMClassifier(), param_grid=parameters, n_jobs=6, scoring=my_scorer, cv=5)\n",
    "clf.fit(train_X, train_y)"
   ]
  },
  {
   "cell_type": "code",
   "execution_count": 153,
   "metadata": {
    "ExecuteTime": {
     "end_time": "2020-08-01T07:49:02.359596Z",
     "start_time": "2020-08-01T07:48:35.359757Z"
    }
   },
   "outputs": [
    {
     "data": {
      "text/plain": [
       "GridSearchCV(cv=StratifiedKFold(n_splits=5, random_state=None, shuffle=False),\n",
       "             error_score=nan,\n",
       "             estimator=LGBMClassifier(boosting_type='gbdt', class_weight=None,\n",
       "                                      colsample_bytree=1.0,\n",
       "                                      importance_type='split',\n",
       "                                      learning_rate=0.1, max_depth=-1,\n",
       "                                      min_child_samples=20,\n",
       "                                      min_child_weight=0.001,\n",
       "                                      min_split_gain=0.0, n_estimators=100,\n",
       "                                      n_jobs=-1, num_leaves=31, objective=None,\n",
       "                                      random_state=None, reg_alpha=0.0,\n",
       "                                      reg_lambda=0.0, silent=True,\n",
       "                                      subsample=1.0, subsample_for_bin=200000,\n",
       "                                      subsample_freq=0),\n",
       "             iid='deprecated', n_jobs=6,\n",
       "             param_grid={'min_child_samples': (5, 10, 15),\n",
       "                         'num_leaves': (4, 8, 16, 32), 'subsample': [0.75, 1]},\n",
       "             pre_dispatch='2*n_jobs', refit=True, return_train_score=False,\n",
       "             scoring=<function my_scorer at 0x7f72579b9840>, verbose=0)"
      ]
     },
     "execution_count": 153,
     "metadata": {},
     "output_type": "execute_result"
    }
   ],
   "source": [
    "from sklearn.metrics import make_scorer\n",
    "def my_scorer(clf, X, y_true):\n",
    "    class_labels = clf.classes_\n",
    "    y_pred_proba = clf.predict_proba(X)\n",
    "    return log_loss(y_true, y_pred_proba)\n",
    "\n",
    "from sklearn.model_selection import RandomizedSearchCV\n",
    "parameters = {\n",
    "    'num_leaves':( 4, 8, 16, 32), \n",
    "    'subsample':[0.75, 1],\n",
    "    'min_child_samples': (5, 10, 15)\n",
    "}\n",
    "\n",
    "clf = GridSearchCV(LGBMClassifier(), param_grid=parameters, \n",
    "                   n_jobs=6, scoring=my_scorer, cv=StratifiedKFold(n_splits=5))\n",
    "clf.fit(train_X, train_y)"
   ]
  },
  {
   "cell_type": "markdown",
   "metadata": {},
   "source": [
    "# 阅读链接\n",
    "\n",
    "- https://scikit-learn.org/stable/modules/generated/sklearn.model_selection.GridSearchCV.html\n",
    "- https://lightgbm.readthedocs.io/en/latest/Python-API.html\n",
    "- https://xgboost.readthedocs.io/en/latest//python/index.html"
   ]
  }
 ],
 "metadata": {
  "_change_revision": 488,
  "_is_fork": false,
  "kernelspec": {
   "display_name": "Python 3",
   "language": "python",
   "name": "python3"
  },
  "language_info": {
   "codemirror_mode": {
    "name": "ipython",
    "version": 3
   },
   "file_extension": ".py",
   "mimetype": "text/x-python",
   "name": "python",
   "nbconvert_exporter": "python",
   "pygments_lexer": "ipython3",
   "version": "3.6.9"
  },
  "toc": {
   "base_numbering": 1,
   "nav_menu": {},
   "number_sections": true,
   "sideBar": true,
   "skip_h1_title": false,
   "title_cell": "Table of Contents",
   "title_sidebar": "Contents",
   "toc_cell": false,
   "toc_position": {},
   "toc_section_display": true,
   "toc_window_display": false
  }
 },
 "nbformat": 4,
 "nbformat_minor": 1
}
