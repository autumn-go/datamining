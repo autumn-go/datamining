{
 "cells": [
  {
   "cell_type": "markdown",
   "metadata": {},
   "source": [
    "# github挖掘案例"
   ]
  },
  {
   "cell_type": "markdown",
   "metadata": {},
   "source": [
    "## 1. 通过API访问GitHub"
   ]
  },
  {
   "cell_type": "code",
   "execution_count": 3,
   "metadata": {
    "collapsed": false
   },
   "outputs": [
    {
     "name": "stdout",
     "output_type": "stream",
     "text": [
      " API response: {\"id\":41820802,\"url\":\"https://api.github.com/authorizations/41820802\",\"app\":{\"name\":\"Julyedu Data Mining Class\",\"url\":\"https://developer.github.com/v3/oauth_authorizations/\",\"client_id\":\"00000000000000000000\"},\"token\":\"5ce8736ef7fb912ea8c2dd86ca9f62a44f7a28a2\",\"hashed_token\":\"dab9b8442aef7f64336d2633fe96d1b0054bd8d8a69cdd3813fcd1eb9e0f0c50\",\"token_last_eight\":\"4f7a28a2\",\"note\":\"Julyedu Data Mining Class\",\"note_url\":null,\"created_at\":\"2016-07-23T02:09:15Z\",\"updated_at\":\"2016-07-23T02:09:15Z\",\"scopes\":[\"repo\"],\"fingerprint\":null}\n",
      "\n",
      "Your OAuth token is 5ce8736ef7fb912ea8c2dd86ca9f62a44f7a28a2\n"
     ]
    }
   ],
   "source": [
    "import requests\n",
    "from getpass import getpass\n",
    "import json\n",
    "\n",
    "# 最老老实实的办法当然是通过官方给的API访问github获取一些信息\n",
    "username = 'Hanxiaoyang' # Your GitHub username\n",
    "password = '' # Your GitHub password\n",
    "\n",
    "# Note that credentials will be transmitted over a secure SSL connection\n",
    "url = 'https://api.github.com/authorizations'\n",
    "note = 'Julyedu Data Mining Class'\n",
    "post_data = {'scopes':['repo'],'note': note }\n",
    "\n",
    "response = requests.post(\n",
    "    url,\n",
    "    auth = (username, password),\n",
    "    data = json.dumps(post_data),\n",
    "    )   \n",
    "\n",
    "print \"API response:\", response.text\n",
    "print\n",
    "print \"Your OAuth token is\", response.json()['token']\n",
    "\n",
    "# Go to https://github.com/settings/applications to revoke this token"
   ]
  },
  {
   "cell_type": "markdown",
   "metadata": {},
   "source": [
    "## 2. 直接HTTP请求获取GitHub加星信息"
   ]
  },
  {
   "cell_type": "code",
   "execution_count": 4,
   "metadata": {
    "collapsed": false
   },
   "outputs": [
    {
     "name": "stdout",
     "output_type": "stream",
     "text": [
      "{\n",
      " \"following_url\": \"https://api.github.com/users/Jerusalemsbell/following{/other_user}\", \n",
      " \"events_url\": \"https://api.github.com/users/Jerusalemsbell/events{/privacy}\", \n",
      " \"organizations_url\": \"https://api.github.com/users/Jerusalemsbell/orgs\", \n",
      " \"url\": \"https://api.github.com/users/Jerusalemsbell\", \n",
      " \"gists_url\": \"https://api.github.com/users/Jerusalemsbell/gists{/gist_id}\", \n",
      " \"html_url\": \"https://github.com/Jerusalemsbell\", \n",
      " \"subscriptions_url\": \"https://api.github.com/users/Jerusalemsbell/subscriptions\", \n",
      " \"avatar_url\": \"https://avatars.githubusercontent.com/u/11695808?v=3\", \n",
      " \"repos_url\": \"https://api.github.com/users/Jerusalemsbell/repos\", \n",
      " \"received_events_url\": \"https://api.github.com/users/Jerusalemsbell/received_events\", \n",
      " \"gravatar_id\": \"\", \n",
      " \"starred_url\": \"https://api.github.com/users/Jerusalemsbell/starred{/owner}{/repo}\", \n",
      " \"site_admin\": false, \n",
      " \"login\": \"Jerusalemsbell\", \n",
      " \"type\": \"User\", \n",
      " \"id\": 11695808, \n",
      " \"followers_url\": \"https://api.github.com/users/Jerusalemsbell/followers\"\n",
      "}\n",
      "\n",
      "Vary => Accept, Accept-Encoding\n",
      "X-GitHub-Media-Type => github.v3\n",
      "X-XSS-Protection => 1; mode=block\n",
      "X-Content-Type-Options => nosniff\n",
      "ETag => W/\"af8f78a7d60b698bf8b6674e39f3bf66\"\n",
      "Cache-Control => public, max-age=60, s-maxage=60\n",
      "Status => 200 OK\n",
      "X-RateLimit-Remaining => 59\n",
      "X-Served-By => 8a5c38021a5cd7cef7b8f49a296fee40\n",
      "Access-Control-Expose-Headers => ETag, Link, X-GitHub-OTP, X-RateLimit-Limit, X-RateLimit-Remaining, X-RateLimit-Reset, X-OAuth-Scopes, X-Accepted-OAuth-Scopes, X-Poll-Interval\n",
      "Transfer-Encoding => chunked\n",
      "X-GitHub-Request-Id => 2D4F67A0:704E:9D13F91:5792D1D1\n",
      "Date => Sat, 23 Jul 2016 02:09:23 GMT\n",
      "Access-Control-Allow-Origin => *\n",
      "Content-Security-Policy => default-src 'none'\n",
      "Content-Encoding => gzip\n",
      "Strict-Transport-Security => max-age=31536000; includeSubdomains; preload\n",
      "Server => GitHub.com\n",
      "X-RateLimit-Limit => 60\n",
      "X-Frame-Options => deny\n",
      "Content-Type => application/json; charset=utf-8\n",
      "X-RateLimit-Reset => 1469243363\n"
     ]
    }
   ],
   "source": [
    "import json\n",
    "import requests\n",
    "\n",
    "url = \"https://api.github.com/repos/HanXiaoyang/Kaggle_Titanic/stargazers\"\n",
    "response = requests.get(url)\n",
    "\n",
    "# 展示所有star的同学\n",
    "print json.dumps(response.json()[0], indent=1)\n",
    "print\n",
    "\n",
    "# Display headers\n",
    "for (k,v) in response.headers.items():\n",
    "    print k, \"=>\", v"
   ]
  },
  {
   "cell_type": "markdown",
   "metadata": {},
   "source": [
    "## 3. 看看networkx这个库怎么用"
   ]
  },
  {
   "cell_type": "code",
   "execution_count": 5,
   "metadata": {
    "collapsed": false
   },
   "outputs": [
    {
     "name": "stdout",
     "output_type": "stream",
     "text": [
      "Name: \n",
      "Type: DiGraph\n",
      "Number of nodes: 2\n",
      "Number of edges: 1\n",
      "Average in degree:   0.5000\n",
      "Average out degree:   0.5000\n",
      "\n",
      "Nodes: ['Y', 'X']\n",
      "Edges: [('X', 'Y')]\n",
      "\n",
      "X props: {}\n",
      "Y props: {}\n",
      "X=>Y props: {}\n",
      "\n",
      "X props: {'prop1': 'value1'}\n",
      "\n",
      "X=>Y props: {'label': 'label1'}\n"
     ]
    }
   ],
   "source": [
    "import networkx as nx\n",
    "\n",
    "# 初始化一个有向图\n",
    "g = nx.DiGraph()\n",
    "\n",
    "# 加一条X到Y的边\n",
    "g.add_edge('X', 'Y')\n",
    "\n",
    "# 输出图相关统计信息\n",
    "print nx.info(g)\n",
    "print\n",
    "\n",
    "# 获得图的节点和边\n",
    "print \"Nodes:\", g.nodes()\n",
    "print \"Edges:\", g.edges()\n",
    "print\n",
    "\n",
    "# 获得节点信息\n",
    "print \"X props:\", g.node['X']\n",
    "print \"Y props:\", g.node['Y']\n",
    "\n",
    "# 获得边信息\n",
    "print \"X=>Y props:\", g['X']['Y']\n",
    "print\n",
    "\n",
    "# 手动更新节点信息\n",
    "g.node['X'].update({'prop1' : 'value1'})\n",
    "print \"X props:\", g.node['X']\n",
    "print\n",
    "\n",
    "# 手动更新边信息\n",
    "g['X']['Y'].update({'label' : 'label1'})\n",
    "print \"X=>Y props:\", g['X']['Y']"
   ]
  },
  {
   "cell_type": "markdown",
   "metadata": {},
   "source": [
    "## 4.对特定的repository进行访问"
   ]
  },
  {
   "cell_type": "code",
   "execution_count": 6,
   "metadata": {
    "collapsed": false
   },
   "outputs": [
    {
     "name": "stdout",
     "output_type": "stream",
     "text": [
      "总共加星人数 12\n"
     ]
    }
   ],
   "source": [
    "from github import Github\n",
    "\n",
    "# 最前面API获得的token\n",
    "ACCESS_TOKEN = '5ce8736ef7fb912ea8c2dd86ca9f62a44f7a28a2'\n",
    "\n",
    "# 指定一个用户和项目\n",
    "USER = 'hanxiaoyang'\n",
    "REPO = 'Kaggle_Titanic'\n",
    "\n",
    "client = Github(ACCESS_TOKEN, per_page=100)\n",
    "user = client.get_user(USER)\n",
    "repo = user.get_repo(REPO)\n",
    "\n",
    "# 跑一遍所有加星的同学\n",
    "stargazers = [ s for s in repo.get_stargazers() ]\n",
    "print \"总共加星人数\", len(stargazers)"
   ]
  },
  {
   "cell_type": "markdown",
   "metadata": {},
   "source": [
    "## 5. 构建上述repository的加星信息图"
   ]
  },
  {
   "cell_type": "code",
   "execution_count": 7,
   "metadata": {
    "collapsed": false
   },
   "outputs": [],
   "source": [
    "# 逐一地把节点和边加到网络当中去\n",
    "import networkx as nx\n",
    "\n",
    "g = nx.DiGraph()\n",
    "g.add_node(repo.name + '(repo)', type='repo', lang=repo.language, owner=user.login)\n",
    "\n",
    "for sg in stargazers:\n",
    "    g.add_node(sg.login + '(user)', type='user')\n",
    "    g.add_edge(sg.login + '(user)', repo.name + '(repo)', type='gazes')"
   ]
  },
  {
   "cell_type": "markdown",
   "metadata": {},
   "source": [
    "## 6. 一些简单的图操作"
   ]
  },
  {
   "cell_type": "code",
   "execution_count": 9,
   "metadata": {
    "collapsed": false
   },
   "outputs": [
    {
     "name": "stdout",
     "output_type": "stream",
     "text": [
      "Name: \n",
      "Type: DiGraph\n",
      "Number of nodes: 13\n",
      "Number of edges: 12\n",
      "Average in degree:   0.9231\n",
      "Average out degree:   0.9231\n",
      "\n",
      "{'lang': u'Jupyter Notebook', 'owner': u'HanXiaoyang', 'type': 'repo'}\n",
      "{'type': 'user'}\n",
      "\n",
      "{u'Kaggle_Titanic(repo)': {'type': 'gazes'}}\n",
      "{}\n",
      "\n",
      "[]\n",
      "[('Jerusalemsbell(user)', u'Kaggle_Titanic(repo)')]\n",
      "\n",
      "入链/边 [(u'whitepaper(user)', 'Kaggle_Titanic(repo)'), (u'Kang-An(user)', 'Kaggle_Titanic(repo)'), (u'wellbeing18(user)', 'Kaggle_Titanic(repo)'), (u'flywilson(user)', 'Kaggle_Titanic(repo)'), (u'TAO-Liang(user)', 'Kaggle_Titanic(repo)'), (u'huyanping(user)', 'Kaggle_Titanic(repo)'), (u'kwafok(user)', 'Kaggle_Titanic(repo)'), (u'Jerusalemsbell(user)', 'Kaggle_Titanic(repo)'), (u'goodluckMrlee(user)', 'Kaggle_Titanic(repo)'), (u'ChengduoZhao(user)', 'Kaggle_Titanic(repo)'), (u'happyjohann(user)', 'Kaggle_Titanic(repo)'), (u'fuhuamosi(user)', 'Kaggle_Titanic(repo)')]\n",
      "出链/边 []\n"
     ]
    }
   ],
   "source": [
    "# 看看NetworkX这个库可以有哪些简单的操作\n",
    "\n",
    "print nx.info(g)\n",
    "print\n",
    "print g.node['Kaggle_Titanic(repo)']\n",
    "print g.node['Jerusalemsbell(user)']\n",
    "print\n",
    "print g['Jerusalemsbell(user)']\n",
    "print g['Kaggle_Titanic(repo)']\n",
    "print\n",
    "print g.in_edges(['Jerusalemsbell(user)'])\n",
    "print g.out_edges(['Jerusalemsbell(user)'])\n",
    "print\n",
    "print \"入链/边\", g.in_edges(['Kaggle_Titanic(repo)'])\n",
    "print \"出链/边\", g.out_edges(['Kaggle_Titanic(repo)'])"
   ]
  },
  {
   "cell_type": "markdown",
   "metadata": {},
   "source": [
    "## 7. 扩展网络，添加这些加星user的follower"
   ]
  },
  {
   "cell_type": "code",
   "execution_count": 11,
   "metadata": {
    "collapsed": false
   },
   "outputs": [
    {
     "name": "stdout",
     "output_type": "stream",
     "text": [
      "Processed 1  stargazers. Num nodes/edges in graph 13 / 12\n",
      "Rate limit remaining (4939, 5000)\n",
      "Processed 2  stargazers. Num nodes/edges in graph 13 / 12\n",
      "Rate limit remaining (4938, 5000)\n",
      "Processed 3  stargazers. Num nodes/edges in graph 13 / 12\n",
      "Rate limit remaining (4937, 5000)\n",
      "Processed 4  stargazers. Num nodes/edges in graph 13 / 12\n",
      "Rate limit remaining (4936, 5000)\n",
      "Processed 5  stargazers. Num nodes/edges in graph 13 / 12\n",
      "Rate limit remaining (4935, 5000)\n",
      "Processed 6  stargazers. Num nodes/edges in graph 13 / 12\n",
      "Rate limit remaining (4934, 5000)\n",
      "Processed 7  stargazers. Num nodes/edges in graph 13 / 12\n",
      "Rate limit remaining (4933, 5000)\n",
      "Processed 8  stargazers. Num nodes/edges in graph 13 / 12\n",
      "Rate limit remaining (4932, 5000)\n",
      "Processed 9  stargazers. Num nodes/edges in graph 13 / 12\n",
      "Rate limit remaining (4931, 5000)\n",
      "Processed 10  stargazers. Num nodes/edges in graph 13 / 12\n",
      "Rate limit remaining (4930, 5000)\n",
      "Processed 11  stargazers. Num nodes/edges in graph 13 / 12\n",
      "Rate limit remaining (4929, 5000)\n",
      "Processed 12  stargazers. Num nodes/edges in graph 13 / 12\n",
      "Rate limit remaining (4928, 5000)\n"
     ]
    }
   ],
   "source": [
    "# 继续条件标星的这些user的followers.\n",
    "\n",
    "import sys\n",
    "\n",
    "for i, sg in enumerate(stargazers):\n",
    "    \n",
    "    # 遍历添加关注者\n",
    "    try:\n",
    "        for follower in sg.get_followers():\n",
    "            if follower.login + '(user)' in g:\n",
    "                g.add_edge(follower.login + '(user)', sg.login + '(user)', \n",
    "                           type='follows')\n",
    "    except Exception, e: #ssl.SSLError\n",
    "        print >> sys.stderr, \"Encountered an error fetching followers for\", \\\n",
    "                             sg.login, \"Skipping.\"\n",
    "        print >> sys.stderr, e\n",
    "\n",
    "    print \"Processed\", i+1, \" stargazers. Num nodes/edges in graph\", \\\n",
    "          g.number_of_nodes(), \"/\", g.number_of_edges()\n",
    "    print \"Rate limit remaining\", client.rate_limiting"
   ]
  },
  {
   "cell_type": "markdown",
   "metadata": {},
   "source": [
    "## 8. 分析图上新加的这些边"
   ]
  },
  {
   "cell_type": "code",
   "execution_count": 12,
   "metadata": {
    "collapsed": false
   },
   "outputs": [
    {
     "name": "stdout",
     "output_type": "stream",
     "text": [
      "Name: \n",
      "Type: DiGraph\n",
      "Number of nodes: 13\n",
      "Number of edges: 12\n",
      "Average in degree:   0.9231\n",
      "Average out degree:   0.9231\n",
      "\n",
      "0\n",
      "\n",
      "0\n",
      "\n",
      "[(u'Kaggle_Titanic(repo)', 12), (u'whitepaper(user)', 1), (u'Kang-An(user)', 1), (u'flywilson(user)', 1), (u'TAO-Liang(user)', 1), (u'huyanping(user)', 1), (u'kwafok(user)', 1), (u'Jerusalemsbell(user)', 1), (u'goodluckMrlee(user)', 1), (u'ChengduoZhao(user)', 1)]\n",
      "\n",
      "0\n",
      "0\n",
      "\n",
      "0\n",
      "0\n",
      "\n",
      "Number of popular users 0\n",
      "Top 10 popular users: []\n"
     ]
    }
   ],
   "source": [
    "from operator import itemgetter\n",
    "from collections import Counter\n",
    "\n",
    "# 看看新加了多少边\n",
    "print nx.info(g)\n",
    "print\n",
    "\n",
    "# The number of \"follows\" edges is the difference\n",
    "print len([e for e in g.edges_iter(data=True) if e[2]['type'] == 'follows'])\n",
    "print\n",
    "\n",
    "# The repository owner is possibly one of the more popular users in this graph.\n",
    "print len([e \n",
    "           for e in g.edges_iter(data=True) \n",
    "               if e[2]['type'] == 'follows' and e[1] == 'ptwobrussell(user)'])\n",
    "print\n",
    "\n",
    "# Let's examine the number of adjacent edges to each node\n",
    "print sorted([n for n in g.degree_iter()], key=itemgetter(1), reverse=True)[:10]\n",
    "print\n",
    "\n",
    "# Consider the ratio of incoming and outgoing edges for a couple of users with \n",
    "# high node degrees...\n",
    "\n",
    "# A user who follows many but is not followed back by many.\n",
    "\n",
    "print len(g.out_edges('hcilab(user)'))\n",
    "print len(g.in_edges('hcilab(user)'))\n",
    "print\n",
    "\n",
    "# A user who is followed by many but does not follow back.\n",
    "\n",
    "print len(g.out_edges('ptwobrussell(user)'))\n",
    "print len(g.in_edges('ptwobrussell(user)'))\n",
    "print\n",
    "\n",
    "c = Counter([e[1] for e in g.edges_iter(data=True) if e[2]['type'] == 'follows'])\n",
    "popular_users = [ (u, f) for (u, f) in c.most_common() if f > 1 ]\n",
    "print \"Number of popular users\", len(popular_users)\n",
    "print \"Top 10 popular users:\", popular_users[:10]"
   ]
  },
  {
   "cell_type": "markdown",
   "metadata": {},
   "source": [
    "## 9. 存储当前分析的结果"
   ]
  },
  {
   "cell_type": "code",
   "execution_count": 13,
   "metadata": {
    "collapsed": false
   },
   "outputs": [],
   "source": [
    "# 存储当前分析的结果\n",
    "nx.write_gpickle(g, \"github.gpickle.1\")\n",
    "\n",
    "# 载入信息\n",
    "# import networkx as nx\n",
    "# g = nx.read_gpickle(\"resources/ch07-github/data/github.gpickle.1\")"
   ]
  },
  {
   "cell_type": "markdown",
   "metadata": {},
   "source": [
    "## 10. 添加加星的代码项目作为图的边"
   ]
  },
  {
   "cell_type": "code",
   "execution_count": 14,
   "metadata": {
    "collapsed": false
   },
   "outputs": [
    {
     "name": "stdout",
     "output_type": "stream",
     "text": [
      "Jerusalemsbell\n",
      "Processed 1 stargazers' starred repos\n",
      "Num nodes/edges in graph 25 / 24\n",
      "Rate limit (4927, 5000)\n",
      "kwafok\n",
      "Processed 2 stargazers' starred repos\n",
      "Num nodes/edges in graph 57 / 57\n",
      "Rate limit (4926, 5000)\n",
      "whitepaper\n",
      "Processed 3 stargazers' starred repos\n",
      "Num nodes/edges in graph 443 / 450\n",
      "Rate limit (4922, 5000)\n",
      "happyjohann\n",
      "Processed 4 stargazers' starred repos\n",
      "Num nodes/edges in graph 519 / 529\n",
      "Rate limit (4921, 5000)\n",
      "flywilson\n",
      "Processed 5 stargazers' starred repos\n",
      "Num nodes/edges in graph 522 / 533\n",
      "Rate limit (4920, 5000)\n",
      "goodluckMrlee\n",
      "Processed 6 stargazers' starred repos\n",
      "Num nodes/edges in graph 531 / 547\n",
      "Rate limit (4919, 5000)\n",
      "huyanping\n",
      "Processed 7 stargazers' starred repos\n",
      "Num nodes/edges in graph 985 / 1033\n",
      "Rate limit (4914, 5000)\n",
      "Kang-An\n",
      "Processed 8 stargazers' starred repos\n",
      "Num nodes/edges in graph 991 / 1040\n",
      "Rate limit (4913, 5000)\n",
      "TAO-Liang\n",
      "Processed 9 stargazers' starred repos\n",
      "Num nodes/edges in graph 1068 / 1135\n",
      "Rate limit (4912, 5000)\n",
      "ChengduoZhao\n",
      "Processed 10 stargazers' starred repos\n",
      "Num nodes/edges in graph 1099 / 1177\n",
      "Rate limit (4911, 5000)\n",
      "wellbeing18\n",
      "Processed 11 stargazers' starred repos\n",
      "Num nodes/edges in graph 1437 / 1544\n",
      "Rate limit (4907, 5000)\n",
      "fuhuamosi\n",
      "Processed 12 stargazers' starred repos\n",
      "Num nodes/edges in graph 1437 / 1548\n",
      "Rate limit (4906, 5000)\n"
     ]
    }
   ],
   "source": [
    "# 我们添加每个加星user加星过后的代码项目作为图的边\n",
    "\n",
    "MAX_REPOS = 500\n",
    "\n",
    "for i, sg in enumerate(stargazers):\n",
    "    print sg.login\n",
    "    try:\n",
    "        for starred in sg.get_starred()[:MAX_REPOS]: # Slice to avoid supernodes\n",
    "            g.add_node(starred.name + '(repo)', type='repo', lang=starred.language, \\\n",
    "                       owner=starred.owner.login)\n",
    "            g.add_edge(sg.login + '(user)', starred.name + '(repo)', type='gazes')\n",
    "    except Exception, e: #ssl.SSLError:\n",
    "        print \"Encountered an error fetching starred repos for\", sg.login, \"Skipping.\"\n",
    "\n",
    "    print \"Processed\", i+1, \"stargazers' starred repos\"\n",
    "    print \"Num nodes/edges in graph\", g.number_of_nodes(), \"/\", g.number_of_edges()\n",
    "    print \"Rate limit\", client.rate_limiting"
   ]
  },
  {
   "cell_type": "code",
   "execution_count": 15,
   "metadata": {
    "collapsed": false
   },
   "outputs": [],
   "source": [
    "# 把得到的结果存下来\n",
    "nx.write_gpickle(g, \"github.gpickle.2\")\n",
    "\n",
    "#import networkx as nx\n",
    "#g = nx.read_gpickle(\"resources/ch07-github/data/github.gpickle.2\")"
   ]
  },
  {
   "cell_type": "markdown",
   "metadata": {},
   "source": [
    "## 11.再扩展一下图，加上标星的代码项目作为边"
   ]
  },
  {
   "cell_type": "code",
   "execution_count": 24,
   "metadata": {
    "collapsed": false
   },
   "outputs": [
    {
     "name": "stdout",
     "output_type": "stream",
     "text": [
      "Name: \n",
      "Type: DiGraph\n",
      "Number of nodes: 1437\n",
      "Number of edges: 1548\n",
      "Average in degree:   1.0772\n",
      "Average out degree:   1.0772\n",
      "\n",
      "热门的代码项目/repositories\n",
      "[(u'Kaggle_Titanic(repo)', 12), (u'mxnet(repo)', 5), (u'tensorflow(repo)', 5), (u'leetcode(repo)', 4), (u'awesome-machine-learning(repo)', 4), (u'scikit-learn(repo)', 4), (u'Qix(repo)', 4), (u'The-Art-Of-Programming-By-July(repo)', 3), (u'keras(repo)', 3), (u'data-science-ipython-notebooks(repo)', 3)]\n",
      "\n",
      "huyanping收藏的代码项目/Respositories\n",
      "[(u'cronkeep(repo)', u'PHP'), (u'php7cc(repo)', u'PHP'), (u'delete-set(repo)', u'Java'), (u'psr7(repo)', u'PHP'), (u'jgraphx(repo)', u'Java'), (u'JG_Cache(repo)', u'PHP'), (u'the-way-to-go_ZH_CN(repo)', u'Go'), (u'php-jsond(repo)', u'C'), (u'presto(repo)', u'Java'), (u'spring-framework-4-reference(repo)', None), (u'php-rdkafka(repo)', u'C'), (u'node-zk-browser(repo)', u'JavaScript'), (u'angular-websocket(repo)', u'JavaScript'), (u'queues.io(repo)', u'HTML'), (u'hbasedoc_cn(repo)', u'CSS'), (u'weiszfeld-median(repo)', u'PHP'), (u'mha4mysql-node(repo)', u'Perl'), (u'logster(repo)', u'Python'), (u'phabricator(repo)', u'PHP'), (u'phptek2013(repo)', u'C'), (u'PhysicsJS(repo)', u'JavaScript'), (u'GB2260.php(repo)', u'PHP'), (u'SwitchyOmega(repo)', u'CoffeeScript'), (u'git-export(repo)', None), (u'fig-standards(repo)', None), (u'kafka-rest(repo)', u'Java'), (u'phpkafka(repo)', u'C'), (u'readthedocs.org(repo)', u'Python'), (u'test(repo)', u'PHP'), (u'deeplearning4j(repo)', u'Java'), (u'phar-util(repo)', u'PHP'), (u'spark-ml-source-analysis(repo)', None), (u'simplon_mysql(repo)', u'PHP'), (u'ossec-hids(repo)', u'C'), (u'ngInfiniteScroll(repo)', u'CoffeeScript'), (u'riak(repo)', u'Shell'), (u'phpunit-vw(repo)', u'PHP'), (u'jdml(repo)', u'XSLT'), (u'shadowsocks-windows(repo)', u'C#'), (u'docs(repo)', None), (u'phpredis-phpdoc(repo)', u'PHP'), (u'Migrating-from-PHP5.6.x-to-PHP7.0.x(repo)', None), (u'summingbird(repo)', u'Scala'), (u'php-amqplib(repo)', u'PHP'), (u'predis-async(repo)', u'PHP'), (u'nginx_limit_speed_module(repo)', u'C'), (u'beef(repo)', u'JavaScript'), (u'py-setproctitle(repo)', u'C'), (u'react-native(repo)', u'Java'), (u'awesome-android-ui(repo)', None), (u'child-process(repo)', u'PHP'), (u'framework(repo)', u'PHP'), (u'kafka-http(repo)', u'Scala'), (u'redis-rdb-tools(repo)', u'Python'), (u'QConf(repo)', u'C++'), (u'phar-composer(repo)', u'PHP'), (u'learning-spark(repo)', u'Java'), (u'ngAutocomplete(repo)', u'JavaScript'), (u'colors.php(repo)', u'PHP'), (u'fatcache(repo)', u'C'), (u'ansj_seg(repo)', u'Java'), (u'jekyll-wikibox(repo)', u'CSS'), (u'php(repo)', u'PHP'), (u'ngStorage(repo)', u'JavaScript'), (u'flume-ng-kafka-source(repo)', u'Java'), (u'2048(repo)', u'CSS'), (u'android-open-project(repo)', None), (u'material-design-lite(repo)', u'HTML'), (u'ansj_fast_lda(repo)', u'Java'), (u'reveal.js(repo)', u'JavaScript'), (u'jodis(repo)', u'Java'), (u'v8js(repo)', u'C++'), (u'undertow(repo)', u'Java'), (u'zh-google-styleguide(repo)', u'Makefile'), (u'pika(repo)', u'C++'), (u'shadowsocks(repo)', u'Python'), (u'nanomsg(repo)', u'C'), (u'proxychains(repo)', u'C'), (u'baiducdnstatic(repo)', u'JavaScript'), (u'nlp-lang(repo)', u'Java'), (u'userguide(repo)', u'JavaScript'), (u'phinx(repo)', u'PHP'), (u'kafka-manager(repo)', u'Scala'), (u'yaconf(repo)', u'C'), (u'config(repo)', u'Java'), (u'goose(repo)', u'Scala'), (u'study-note(repo)', u'Java'), (u'asynchronous-php(repo)', None), (u'phpunit(repo)', u'PHP'), (u'codis(repo)', u'Go'), (u'testenv(repo)', u'PHP'), (u'msgpack-php(repo)', u'PHP'), (u'php-browser-detector(repo)', u'PHP'), (u'phpsa(repo)', u'PHP'), (u'vagrant(repo)', u'Ruby'), (u'heron(repo)', u'Java'), (u'jekyll(repo)', u'Ruby'), (u'phpDocumentor2(repo)', u'PHP'), (u'phantomjs(repo)', u'HTML'), (u'zoocreeper(repo)', u'Java'), (u'simhash(repo)', u'C++'), (u'Fort.js(repo)', u'HTML'), (u'dpdk-redis(repo)', u'C'), (u'PHP7-Reference(repo)', None), (u'tmhOAuth(repo)', u'PHP'), (u'php-fpm(repo)', u'Shell'), (u'http(repo)', u'PHP'), (u'icicle(repo)', u'PHP'), (u'elasticsearch-analysis-ik(repo)', u'Java'), (u'zephir(repo)', u'C'), (u'tmallfe.github.io(repo)', u'HTML'), (u'material-theme-jetbrains(repo)', u'Java'), (u'asynchbase(repo)', u'Java'), (u'webscalesql-5.6(repo)', u'C++'), (u'kafka-php(repo)', u'PHP'), (u'user-documentation(repo)', u'Hack'), (u'Kafka-Message-Server(repo)', u'Java'), (u'NativeScript(repo)', u'TypeScript'), (u'Babylon.js(repo)', u'JavaScript'), (u'bolt(repo)', u'Go'), (u'foundation-sites(repo)', u'JavaScript'), (u'pack(repo)', u'Python'), (u'Word2VEC_java(repo)', u'Java'), (u'zkui(repo)', u'Java'), (u'devise-i18n(repo)', u'Ruby'), (u'zabbix(repo)', u'Shell'), (u'ylinux(repo)', None), (u'netty-http-client(repo)', u'Java'), (u'wechat.js(repo)', u'JavaScript'), (u'libuv(repo)', u'C'), (u'MySQL-Syncer(repo)', u'C'), (u'Python-Guide-CN(repo)', u'Batchfile'), (u'AngularJS-Learning(repo)', None), (u'Goutte(repo)', u'PHP'), (u'fluentd(repo)', u'Ruby'), (u'openresty-best-practices(repo)', None), (u'wiki(repo)', None), (u'pandas(repo)', u'Python'), (u'samza(repo)', u'Scala'), (u'RATDecoders(repo)', u'Python'), (u'Central(repo)', u'PHP'), (u'awesome-java-cn(repo)', None), (u'rethinkdb(repo)', u'C++'), (u'animate.css(repo)', u'CSS'), (u'TextRank(repo)', u'Java'), (u'jedis(repo)', u'Java'), (u'aerys(repo)', u'PHP'), (u'webgrind(repo)', u'Python'), (u'zhao(repo)', u'Python'), (u'Ratchet-examples(repo)', u'PHP'), (u'Propel2(repo)', u'PHP'), (u'cobar(repo)', u'Java'), (u'ukey(repo)', u'C'), (u'avro(repo)', u'Java'), (u'pickle(repo)', u'PHP'), (u'tor-research-framework(repo)', u'Java'), (u'TextBayesClassifier(repo)', u'Java'), (u'lettuce(repo)', u'Java'), (u'jmxterm(repo)', u'Java'), (u'Sismo(repo)', u'PHP'), (u'php-resque(repo)', u'PHP'), (u'fcgi4j(repo)', u'Java'), (u'grumphp(repo)', u'PHP'), (u'PHP-Parser(repo)', u'PHP'), (u'php-libev(repo)', u'C'), (u'rocksdb(repo)', u'C++'), (u'mahout(repo)', u'Java'), (u'canal(repo)', u'Java'), (u'alluxio(repo)', u'Java'), (u'xssor(repo)', u'JavaScript'), (u'hexo(repo)', u'JavaScript'), (u'phdfs(repo)', u'C'), (u'zk-web(repo)', u'Clojure'), (u'yui3(repo)', u'JavaScript'), (u'storm-yarn(repo)', u'Java'), (u'php-xml(repo)', u'PHP'), (u'array_column(repo)', u'PHP'), (u'rails-i18n(repo)', u'Ruby'), (u'php-stubs(repo)', u'PHP'), (u'box2(repo)', u'PHP'), (u'hbase(repo)', u'Java'), (u'flume-ng-kafka-sink(repo)', u'Java'), (u'osquery(repo)', u'C++'), (u'mysql(repo)', u'PHP'), (u'PHPCI(repo)', u'JavaScript'), (u'Silex(repo)', u'PHP'), (u'badge-poser(repo)', u'PHP'), (u'univocity-parsers(repo)', u'Java'), (u'cayley(repo)', u'Go'), (u'fastjson(repo)', u'Java'), (u'ebook(repo)', u'Python'), (u'tez(repo)', u'Java'), (u'astro(repo)', u'Scala'), (u'lay1010.github.io(repo)', u'JavaScript'), (u'docker-thrift(repo)', None), (u'examples-ch02-getting_started(repo)', u'Java'), (u'jieba-analysis(repo)', u'Java'), (u'jmxtrans(repo)', u'Java'), (u'Ratchet(repo)', u'PHP'), (u'RocketMQ(repo)', u'Java'), (u'hackpad(repo)', u'Java'), (u'redis-protocol(repo)', u'Java'), (u'phptrace(repo)', u'C'), (u'GitUp(repo)', u'Objective-C'), (u'event-loop(repo)', u'PHP'), (u'pipelinedb(repo)', u'C'), (u'Log.io(repo)', u'CoffeeScript'), (u'HanLP(repo)', u'Java'), (u'grunt(repo)', u'JavaScript'), (u'phpunit-speedtrap(repo)', u'PHP'), (u'pixi.js(repo)', u'JavaScript'), (u'jcseg(repo)', u'Java'), (u'xhgui(repo)', u'JavaScript'), (u'php7dev(repo)', u'PHP'), (u'MITMf(repo)', u'Python'), (u'xhprof(repo)', u'PHP'), (u'hubot(repo)', u'CoffeeScript'), (u'phpquery(repo)', u'PHP'), (u'dotfiles(repo)', u'VimL'), (u'ik-analyzer(repo)', u'Java'), (u'awesome-shell(repo)', None), (u'zookeeper(repo)', u'Java'), (u'react(repo)', u'JavaScript'), (u'flume-kafka(repo)', u'Java'), (u'proxychains-ng(repo)', u'C'), (u'spark(repo)', u'Scala'), (u'scrat(repo)', u'JavaScript'), (u'macaca(repo)', None), (u'fake2db(repo)', u'Python'), (u'hexo-theme-next(repo)', u'CSS'), (u'StreamCQL(repo)', u'Java'), (u'php-ext(repo)', u'Shell'), (u'storm(repo)', u'Java'), (u'flume-hive-batch-sink(repo)', u'Java'), (u'tengine(repo)', u'C'), (u'Pawl(repo)', u'PHP'), (u'JAXL(repo)', u'PHP'), (u'hiredis(repo)', u'C'), (u'react-desktop(repo)', u'JavaScript'), (u'php-pm(repo)', u'PHP'), (u'kryo(repo)', u'HTML'), (u'flume-ng-rabbitmq(repo)', u'Java'), (u'scrapy(repo)', u'Python'), (u'httpie(repo)', u'Python'), (u'extension(repo)', u'C'), (u'handbook(repo)', None), (u'singlepageappbook(repo)', u'HTML'), (u'protobuf(repo)', u'C#'), (u'TProfiler(repo)', u'Java'), (u'disque(repo)', u'C'), (u'kafka-examples(repo)', u'Java'), (u'java-design-patterns(repo)', u'Java'), (u'capillary(repo)', u'JavaScript'), (u'zeppelin(repo)', u'Java'), (u'kahlan(repo)', u'PHP'), (u'pyspider(repo)', u'Python'), (u'sqlmapchik(repo)', u'Python'), (u'librdkafka(repo)', u'C'), (u'ngAnimate(repo)', u'CSS'), (u'docker(repo)', u'Go'), (u'showslow(repo)', u'PHP'), (u'php-zlib-react(repo)', u'PHP'), (u'ToolWizAppLock(repo)', u'Java'), (u'mysqlclient-python(repo)', u'Python'), (u'kafka-web-console(repo)', u'CSS'), (u'php-protocolbuffers(repo)', u'C'), (u'hprose-php(repo)', u'PHP'), (u'php-extsample(repo)', u'C'), (u'ramjet(repo)', u'HTML'), (u'ua-parser-js(repo)', u'JavaScript'), (u'go-lang-idea-plugin(repo)', u'Java'), (u'jstorm(repo)', u'Java'), (u'security-advisories(repo)', u'PHP'), (u'html5-boilerplate(repo)', u'JavaScript'), (u'make-ipinyou-data(repo)', u'Python'), (u'How-to-Make-a-Computer-Operating-System(repo)', u'C'), (u'jsonlint(repo)', u'PHP'), (u'AdminLTE(repo)', u'HTML'), (u'ideabook(repo)', u'HTML'), (u'Eve(repo)', u'Lua'), (u'PHPExcel(repo)', u'PHP'), (u'promise(repo)', u'PHP'), (u'php-apm(repo)', u'C'), (u'url(repo)', u'PHP'), (u'GB2260.java(repo)', u'Java'), (u'twitter-simhash-java(repo)', u'Java'), (u'Retail(repo)', u'C'), (u'xsschef(repo)', u'JavaScript'), (u'walle-web(repo)', u'HTML'), (u'swala(repo)', u'PHP'), (u'Snoopy(repo)', u'PHP'), (u'mycli(repo)', u'Python'), (u'iOSInterviewQuestions(repo)', u'Objective-C'), (u'SeasLog(repo)', u'PHP'), (u'PHP-FastCGI-Client(repo)', u'PHP'), (u'dunit(repo)', u'PHP'), (u'd3(repo)', u'JavaScript'), (u'Atlas(repo)', u'C'), (u'version(repo)', u'PHP'), (u'storm-php(repo)', u'PHP'), (u'phaser(repo)', u'JavaScript'), (u'ClassPreloader(repo)', u'PHP'), (u'php-hiveserver2(repo)', u'PHP'), (u'HTMLPurifierBundle(repo)', u'PHP'), (u'kafkat(repo)', u'Ruby'), (u'kafka-manager-docker(repo)', None), (u'workerboy(repo)', u'PHP'), (u'nedis(repo)', u'Java'), (u'Mycat-doc(repo)', u'HTML'), (u'tidb(repo)', u'Go'), (u'async-http-client(repo)', u'Java'), (u'scws(repo)', u'PHP'), (u'Hosts(repo)', None), (u'materialize(repo)', u'JavaScript'), (u'Sami(repo)', u'PHP'), (u'bcrpscan(repo)', u'Python'), (u'dpdk-ans(repo)', u'C'), (u'word(repo)', u'Java'), (u'runkit(repo)', u'C'), (u'play-for-scala-developers(repo)', None), (u'dubbo(repo)', u'Java'), (u'php-binlog(repo)', u'C++'), (u'WebCollector(repo)', u'Java'), (u'PHPMailer(repo)', u'PHP'), (u'jminix(repo)', u'JavaScript'), (u'php-memory-profiler(repo)', u'C'), (u'ehcache3(repo)', u'Java'), (u'freecache(repo)', u'Go'), (u'anemone(repo)', u'Ruby'), (u'symfony(repo)', u'PHP'), (u'cdnjs(repo)', None), (u'leaf(repo)', u'Go'), (u'ZendOptimizerPlus(repo)', u'C'), (u'php7-internal(repo)', u'C'), (u'LearningDocker(repo)', u'Go'), (u'SQLMAP-Web-GUI(repo)', u'PHP'), (u'dns-java(repo)', u'Java'), (u'process(repo)', u'PHP'), (u'netty-socketio-demo(repo)', u'HTML'), (u'flink(repo)', u'Java'), (u'tensorflow(repo)', u'C++'), (u'chukwa(repo)', u'Java'), (u'Lealone(repo)', u'Java'), (u'oozie(repo)', u'Java'), (u'swoole-ide-helper(repo)', u'PHP'), (u'php-simple-mail(repo)', u'PHP'), (u'data-algorithms-book(repo)', u'Java'), (u'bigdata(repo)', u'Java'), (u'PHP-Router(repo)', u'PHP'), (u'suixiang(repo)', u'CSS'), (u'retry(repo)', u'PHP'), (u'cws_evaluation(repo)', u'Lex'), (u'junit4(repo)', u'Java'), (u'awesome-php(repo)', None), (u'mlf(repo)', u'Perl'), (u'virtualenv(repo)', u'Python'), (u'pdf.js(repo)', u'JavaScript'), (u'sidekiq(repo)', u'Ruby'), (u'elasticsearch-sql(repo)', u'Java'), (u'EventBus(repo)', u'Java'), (u'socket-client(repo)', u'PHP'), (u'HyperDown(repo)', u'PHP'), (u'kafka-clustermer(repo)', u'Java'), (u'tsf(repo)', u'PHP'), (u'snappy(repo)', u'Java'), (u'openerp-doc(repo)', u'CSS'), (u'gibbs-lda(repo)', u'C++'), (u'jolokia(repo)', u'Java'), (u'typo.css(repo)', u'HTML'), (u'php-nano(repo)', u'C'), (u'quasar(repo)', u'Java'), (u'ama(repo)', None), (u'github-roam(repo)', u'HTML'), (u'php-uv(repo)', u'C'), (u'octave-daemon(repo)', u'PHP'), (u'guava(repo)', u'Java'), (u'mysql-tools(repo)', u'Python'), (u'dpdk-nginx(repo)', u'C'), (u'PHP-ESAPI(repo)', u'PHP'), (u'scribe(repo)', u'C++'), (u'hbc(repo)', u'Java'), (u'SequoiaDB(repo)', u'C++'), (u'mrq(repo)', u'Python'), (u'simhash-java(repo)', u'Java'), (u'optimal-rtb(repo)', u'Python'), (u'bitcoin(repo)', u'C++'), (u'nmap(repo)', u'PHP'), (u'gitlabhq(repo)', u'Ruby'), (u'php-zookeeper(repo)', u'C'), (u'jekyll-clean(repo)', u'HTML'), (u'amazeui(repo)', u'CSS'), (u'psysh(repo)', u'PHP'), (u'Mycat-Server(repo)', u'Java'), (u'GB2260(repo)', u'Python'), (u'cocos2d-x(repo)', u'C++'), (u'SOHU-DBProxy(repo)', u'C'), (u'innodb_diagrams(repo)', None), (u'php-gui(repo)', u'PHP'), (u'sqli-hunter(repo)', u'Ruby'), (u'blog(repo)', u'Python'), (u'disconf(repo)', u'Java'), (u'php-exploit-scripts(repo)', u'PHP'), (u'RxJava(repo)', u'Java'), (u'uprofiler(repo)', u'PHP'), (u'bro(repo)', u'C++'), (u'Chronicle-Map(repo)', u'Java'), (u'workerman-thrift(repo)', u'PHP'), (u'sequenceiq-samples(repo)', u'Java'), (u'showdoc(repo)', u'PHP'), (u'druid(repo)', u'Java'), (u'reconnecting-websocket(repo)', u'JavaScript'), (u'nsq(repo)', u'Go'), (u'ng-websocket(repo)', u'JavaScript'), (u'simplelinux(repo)', None), (u'material(repo)', u'JavaScript'), (u'ansible(repo)', u'Python'), (u'distributedlog(repo)', u'Java'), (u'awesome(repo)', None), (u'kafka(repo)', u'Java'), (u'dropwizard-kafka-http(repo)', u'Java'), (u'filesystem(repo)', u'PHP'), (u'OpenRTB(repo)', None), (u'phar-updater(repo)', u'PHP'), (u'webshell(repo)', u'PHP'), (u'phpbrew(repo)', u'Makefile'), (u'guano(repo)', u'Java'), (u'otter(repo)', u'Java'), (u'drill(repo)', u'Java'), (u'redis-audit(repo)', u'Ruby'), (u'docker-phabricator(repo)', u'Shell'), (u'FastRoute(repo)', u'PHP'), (u'rabbitmq-server(repo)', u'Erlang'), (u'kubernetes(repo)', u'Go'), (u'scala-tour(repo)', u'Scala'), (u'PHP-CS-Fixer(repo)', u'PHP'), (u'gson(repo)', u'HTML'), (u'deployer(repo)', u'PHP'), (u'http-mock(repo)', u'PHP'), (u'free-programming-books(repo)', None), (u'typeahead.js(repo)', u'JavaScript'), (u'ua-parser(repo)', u'Java'), (u'switch(repo)', u'Go'), (u'flumeng-kafka-plugin(repo)', u'Java'), (u'duoshuo-wordpress(repo)', u'PHP'), (u'kafka-pixy(repo)', u'Go'), (u'Twig(repo)', u'PHP'), (u'kylin(repo)', u'Java'), (u'examples-ch04-spouts(repo)', u'Java'), (u'SimHashPhp(repo)', u'PHP'), (u'php-lua(repo)', u'C'), (u'leveldb(repo)', u'C++'), (u'php-redis-protocol(repo)', u'PHP'), (u'Qix(repo)', None), (u'flarum(repo)', u'ApacheConf'), (u'kestrel(repo)', u'Scala'), (u'FreeCodeCamp(repo)', u'JavaScript'), (u'.home(repo)', u'Ruby'), (u'metasploit-framework(repo)', u'Ruby'), (u'xhprof.io(repo)', u'PHP'), (u'NoSQLMap(repo)', u'Python'), (u'gauge(repo)', u'Go'), (u'Pimple(repo)', u'PHP'), (u'cockroach(repo)', u'Go'), (u'stream-lib(repo)', u'Java'), (u'twemproxy(repo)', u'C'), (u'Skeleton(repo)', u'CSS'), (u'nsqphp(repo)', u'PHP'), (u'mha4mysql-manager(repo)', u'Perl'), (u'tomcat(repo)', u'Java'), (u'nikto(repo)', u'Perl'), (u'Kaggle_Titanic(repo)', u'Jupyter Notebook'), (u'KafkaOffsetMonitor(repo)', u'Scala'), (u'promises(repo)', u'PHP'), (u'jieba(repo)', u'Python'), (u'phpdbg(repo)', u'C'), (u'phpdotenv(repo)', u'PHP'), (u'php-redis-react(repo)', u'PHP'), (u'oh-my-zsh(repo)', u'Shell'), (u'netty-socketio(repo)', u'Java'), (u'ambrose(repo)', u'Java'), (u'AutoComplete(repo)', u'JavaScript'), (u'php-jmx(repo)', u'PHP'), (u'post-mortems(repo)', None), (u'RFC6455(repo)', u'PHP'), (u'Crontab(repo)', u'PHP'), (u'LRUCache(repo)', u'PHP'), (u'cphalcon(repo)', u'PHP')]\n",
      "\n",
      "huyanping感兴趣的编程语言\n",
      "[u'TypeScript', u'Java', u'Scala', u'ApacheConf', u'JavaScript', u'Makefile', u'Perl', u'Lua', u'Jupyter Notebook', u'Erlang', u'Shell', u'Python', u'CoffeeScript', u'HTML', u'Lex', u'Ruby', u'C', u'XSLT', u'VimL', u'C++', u'Objective-C', u'Batchfile', u'Clojure', u'CSS', u'C#', u'Hack', u'Go', u'PHP', None]\n",
      "\n",
      "超级节点，出链非常多\n",
      "[(u'huyanping(user)', 487), (u'whitepaper(user)', 394), (u'wellbeing18(user)', 368)]\n"
     ]
    }
   ],
   "source": [
    "from operator import itemgetter\n",
    "\n",
    "print nx.info(g)\n",
    "print\n",
    "\n",
    "# 从刚才补充过的图里面，找到所有代码项目repos\n",
    "\n",
    "repos = [n for n in g.nodes_iter() if g.node[n]['type'] == 'repo']\n",
    "\n",
    "# 找到最热门的代码项目repos\n",
    "print \"热门的代码项目/repositories\"\n",
    "print sorted([(n,d) \n",
    "              for (n,d) in g.in_degree_iter() \n",
    "                  if g.node[n]['type'] == 'repo'], \\\n",
    "             key=itemgetter(1), reverse=True)[:10]\n",
    "print\n",
    "\n",
    "# Projects gazed at by a user\n",
    "print \"huyanping收藏的代码项目/Respositories\"\n",
    "print [(n,g.node[n]['lang']) \n",
    "       for n in g['huyanping(user)'] \n",
    "           if g['huyanping(user)'][n]['type'] == 'gazes']\n",
    "print\n",
    "\n",
    "# Programming languages for each user\n",
    "\n",
    "print \"huyanping感兴趣的编程语言\"\n",
    "print list(set([g.node[n]['lang'] \n",
    "                for n in g['huyanping(user)'] \n",
    "                    if g['huyanping(user)'][n]['type'] == 'gazes']))\n",
    "print\n",
    "\n",
    "# 找到活跃用户，给了很多star，即出链非常多的\n",
    "print \"超级节点，出链非常多\"\n",
    "print sorted([(n, len(g.out_edges(n))) \n",
    "              for n in g.nodes_iter() \n",
    "                  if g.node[n]['type'] == 'user' and len(g.out_edges(n)) > 300], \\\n",
    "             key=itemgetter(1), reverse=True)"
   ]
  },
  {
   "cell_type": "markdown",
   "metadata": {},
   "source": [
    "## 12.丰富一下图，把编程语言加到原有图上"
   ]
  },
  {
   "cell_type": "code",
   "execution_count": 37,
   "metadata": {
    "collapsed": false
   },
   "outputs": [],
   "source": [
    "# Iterate over all of the repos, and add edges for programming languages \n",
    "# for each person in the graph. We'll also add edges back to repos so that \n",
    "# we have a good point to \"pivot\" upon.\n",
    "\n",
    "repos = [n \n",
    "         for n in g.nodes_iter() \n",
    "             if g.node[n]['type'] == 'repo']\n",
    "\n",
    "for repo in repos:\n",
    "    lang = (g.node[repo]['lang'] or \"\") + \"(lang)\"\n",
    "    \n",
    "    stargazers = [u \n",
    "                  for (u, r, d) in g.in_edges_iter(repo, data=True) \n",
    "                     if d['type'] == 'gazes'\n",
    "                 ]\n",
    "    \n",
    "    for sg in stargazers:\n",
    "        g.add_node(lang, type='lang')\n",
    "        g.add_edge(sg, lang, type='programs')\n",
    "        g.add_edge(lang, repo, type='implements')"
   ]
  },
  {
   "cell_type": "markdown",
   "metadata": {},
   "source": [
    "## 13.再来一些分析和查询"
   ]
  },
  {
   "cell_type": "code",
   "execution_count": 38,
   "metadata": {
    "collapsed": false
   },
   "outputs": [
    {
     "name": "stdout",
     "output_type": "stream",
     "text": [
      "Name: \n",
      "Type: DiGraph\n",
      "Number of nodes: 1481\n",
      "Number of edges: 3132\n",
      "Average in degree:   2.1148\n",
      "Average out degree:   2.1148\n",
      "\n",
      "[u'Cuda(lang)', u'CoffeeScript(lang)', u'Processing(lang)', u'C(lang)', u'PowerShell(lang)', u'Swift(lang)', u'Go(lang)', u'PHP(lang)', u'OCaml(lang)', u'Tcl(lang)', u'Ruby(lang)', u'C#(lang)', u'Lua(lang)', u'Clojure(lang)', u'VimL(lang)', u'Jupyter Notebook(lang)', u'TypeScript(lang)', u'Perl(lang)', u'Java(lang)', u'HTML(lang)', '(lang)', u'JavaScript(lang)', u'OpenEdge ABL(lang)', u'TeX(lang)', u'ApacheConf(lang)', u'C++(lang)', u'Haskell(lang)', u'Batchfile(lang)', u'Makefile(lang)', u'Matlab(lang)', u'R(lang)', u'GCC Machine Description(lang)', u'Python(lang)', u'Emacs Lisp(lang)', u'CSS(lang)', u'Scheme(lang)', u'FORTRAN(lang)', u'Scala(lang)', u'Objective-C(lang)', u'Shell(lang)', u'Lex(lang)', u'XSLT(lang)', u'Hack(lang)', u'Erlang(lang)']\n",
      "\n",
      "[u'VimL(lang)', u'TypeScript(lang)', u'Scala(lang)', u'Perl(lang)', u'C(lang)', u'Java(lang)', u'HTML(lang)', u'Lua(lang)', u'Objective-C(lang)', u'CoffeeScript(lang)', u'Go(lang)', u'PHP(lang)', '(lang)', u'Ruby(lang)', u'Lex(lang)', u'Makefile(lang)', u'Python(lang)', u'Jupyter Notebook(lang)', u'JavaScript(lang)', u'CSS(lang)', u'XSLT(lang)', u'ApacheConf(lang)', u'C#(lang)', u'C++(lang)', u'Shell(lang)', u'Erlang(lang)', u'Batchfile(lang)', u'Clojure(lang)', u'Hack(lang)']\n",
      "最流行的编程语言\n",
      "[(u'Jupyter Notebook(lang)', 12), (u'Python(lang)', 11), ('(lang)', 9), (u'C++(lang)', 9), (u'Java(lang)', 8), (u'JavaScript(lang)', 8), (u'C(lang)', 7), (u'HTML(lang)', 7), (u'CSS(lang)', 6), (u'Go(lang)', 5)]\n",
      "\n",
      "用Python的同学数量: 11\n",
      "\n",
      "用JavaScript的同学数量: 8\n",
      "\n",
      "用JavaScript和Python的同学数量\n",
      "8\n",
      "用JavaScript不用Python的同学数量\n",
      "0\n"
     ]
    }
   ],
   "source": [
    "# Some stats\n",
    "\n",
    "print nx.info(g)\n",
    "print\n",
    "\n",
    "# 我们这个图里面有哪些编程语言?\n",
    "print [n \n",
    "       for n in g.nodes_iter() \n",
    "           if g.node[n]['type'] == 'lang']\n",
    "print\n",
    "\n",
    "# 用户一般用什么编程语言?\n",
    "print [n \n",
    "       for n in g['huyanping(user)'] \n",
    "           if g['huyanping(user)'][n]['type'] == 'programs']\n",
    "\n",
    "# 最流行的编程语言?\n",
    "print \"最流行的编程语言\"\n",
    "print sorted([(n, g.in_degree(n))\n",
    " for n in g.nodes_iter() \n",
    "     if g.node[n]['type'] == 'lang'], key=itemgetter(1), reverse=True)[:10]\n",
    "print\n",
    "\n",
    "python_programmers = [u \n",
    "                      for (u, l) in g.in_edges_iter('Python(lang)') \n",
    "                          if g.node[u]['type'] == 'user']\n",
    "print \"用Python的同学数量:\", len(python_programmers)\n",
    "print\n",
    "\n",
    "javascript_programmers = [u for \n",
    "                          (u, l) in g.in_edges_iter('JavaScript(lang)') \n",
    "                              if g.node[u]['type'] == 'user']\n",
    "print \"用JavaScript的同学数量:\", len(javascript_programmers)\n",
    "print\n",
    "\n",
    "# 用JavaScript和Python的同学数量\n",
    "print \"用JavaScript和Python的同学数量\"\n",
    "print len(set(python_programmers).intersection(set(javascript_programmers)))\n",
    "\n",
    "# 用JavaScript不用Python的同学数量\n",
    "print \"用JavaScript不用Python的同学数量\"\n",
    "print len(set(javascript_programmers).difference(set(python_programmers)))"
   ]
  },
  {
   "cell_type": "code",
   "execution_count": 29,
   "metadata": {
    "collapsed": false
   },
   "outputs": [],
   "source": [
    "# 把结果存下来\n",
    "nx.write_gpickle(g, \"github.gpickle.3\")\n",
    "\n",
    "#import networkx as nx\n",
    "#g = nx.read_gpickle(\"github.gpickle.3\")"
   ]
  },
  {
   "cell_type": "code",
   "execution_count": null,
   "metadata": {
    "collapsed": true
   },
   "outputs": [],
   "source": []
  }
 ],
 "metadata": {
  "kernelspec": {
   "display_name": "Python 2",
   "language": "python",
   "name": "python2"
  },
  "language_info": {
   "codemirror_mode": {
    "name": "ipython",
    "version": 2
   },
   "file_extension": ".py",
   "mimetype": "text/x-python",
   "name": "python",
   "nbconvert_exporter": "python",
   "pygments_lexer": "ipython2",
   "version": "2.7.11"
  }
 },
 "nbformat": 4,
 "nbformat_minor": 0
}
